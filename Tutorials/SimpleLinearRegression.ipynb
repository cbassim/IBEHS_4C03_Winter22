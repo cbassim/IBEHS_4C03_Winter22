{
 "cells": [
  {
   "cell_type": "markdown",
   "id": "wicked-jesus",
   "metadata": {},
   "source": [
    "# Least Squares Methodologies with Python\n",
    "\n",
    "In this notebook we will go over an example of how to perform Ordinary Least Squares regression (single x + y.\n",
    "\n",
    "As usual we start by importing the data."
   ]
  },
  {
   "cell_type": "code",
   "execution_count": 1,
   "id": "increasing-health",
   "metadata": {},
   "outputs": [
    {
     "name": "stdin",
     "output_type": "stream",
     "text": [
      "Once deleted, variables cannot be recovered. Proceed (y/[n])?  y\n"
     ]
    }
   ],
   "source": [
    "%reset\n",
    "import pandas as pd\n",
    "import numpy as np"
   ]
  },
  {
   "cell_type": "code",
   "execution_count": 2,
   "id": "d63347e0-69d6-4554-a002-725a2762db33",
   "metadata": {},
   "outputs": [],
   "source": [
    "X=pd.Series([19,23,20,24,21,26,20,25,22,29],name=\"MTemp\")\n",
    "Y=pd.Series([294,344,360,417,359,422,333,443,350,401],name=\"NPts\")"
   ]
  },
  {
   "cell_type": "code",
   "execution_count": 3,
   "id": "b96a5d1f-9611-4b5f-a0b3-2312fa0c75f9",
   "metadata": {},
   "outputs": [
    {
     "name": "stderr",
     "output_type": "stream",
     "text": [
      "C:\\Users\\nabil\\anaconda3\\lib\\site-packages\\seaborn\\_decorators.py:36: FutureWarning: Pass the following variables as keyword args: x, y. From version 0.12, the only valid positional argument will be `data`, and passing other arguments without an explicit keyword will result in an error or misinterpretation.\n",
      "  warnings.warn(\n"
     ]
    },
    {
     "data": {
      "text/plain": [
       "Text(0.5, 0, 'Max. Temperature')"
      ]
     },
     "execution_count": 3,
     "metadata": {},
     "output_type": "execute_result"
    },
    {
     "data": {
      "image/png": "[encoded data removed]",
      "text/plain": [
       "<Figure size 432x288 with 1 Axes>"
      ]
     },
     "metadata": {
      "needs_background": "light"
     },
     "output_type": "display_data"
    }
   ],
   "source": [
    "import seaborn as sns\n",
    "import matplotlib.pyplot as plt\n",
    "\n",
    "sns.scatterplot(X,Y)\n",
    "plt.ylabel(\"Number of Patients\")\n",
    "plt.xlabel(\"Max. Temperature\")"
   ]
  },
  {
   "cell_type": "markdown",
   "id": "hollow-health",
   "metadata": {},
   "source": [
    "## Least Squares Regression with a Single Variable\n",
    "\n",
    "In our data set we have z as the dependent variable, and x and y as the independent variables. We will first analyze how our model performs using just the x variable to predict z.\n",
    "\n",
    "Regression models can be built in python using the `from statsmodels.formula.api` library, which contains an `ols` class. The ols class takes as input a DataFrame as well as a string expression indicating which form the regression model should take based on the column names of the dataframe. The general format is \"dependent_var_col_name ~ independent_var1_col_name + independent_var2_col_name + ...\". "
   ]
  },
  {
   "cell_type": "code",
   "execution_count": 4,
   "id": "8b6235be-60dd-4a8c-b829-0cf3fb4a2504",
   "metadata": {},
   "outputs": [
    {
     "name": "stdout",
     "output_type": "stream",
     "text": [
      "   MTemp  NPts\n",
      "0     19   294\n",
      "1     23   344\n",
      "2     20   360\n",
      "3     24   417\n",
      "4     21   359\n",
      "5     26   422\n",
      "6     20   333\n",
      "7     25   443\n",
      "8     22   350\n",
      "9     29   401\n"
     ]
    }
   ],
   "source": [
    "from statsmodels.formula.api import ols\n",
    "\n",
    "DF=pd.concat([X,Y],axis='columns')\n",
    "print(DF)"
   ]
  },
  {
   "cell_type": "code",
   "execution_count": 5,
   "id": "6a0d791b-a801-47b2-b2db-7f20ed3fd654",
   "metadata": {},
   "outputs": [],
   "source": [
    "model1=ols('Y~X',data=DF)\n",
    "results1=model1.fit()"
   ]
  },
  {
   "cell_type": "markdown",
   "id": "widespread-victoria",
   "metadata": {},
   "source": [
    "In the above example we are building a model to predict Y (the dependent variable) based on the values of x (the independent variable). The `ols` command create the ols model object while the `.fit()` command computes the regression model and returns the model results. Let's see what's contained in the results of the model."
   ]
  },
  {
   "cell_type": "code",
   "execution_count": 6,
   "id": "84ec64d3-9eb4-48cd-a86f-c599f33c6667",
   "metadata": {},
   "outputs": [
    {
     "name": "stdout",
     "output_type": "stream",
     "text": [
      "                            OLS Regression Results                            \n",
      "==============================================================================\n",
      "Dep. Variable:                      Y   R-squared:                       0.602\n",
      "Model:                            OLS   Adj. R-squared:                  0.553\n",
      "Method:                 Least Squares   F-statistic:                     12.12\n",
      "Date:                Mon, 28 Feb 2022   Prob (F-statistic):            0.00830\n",
      "Time:                        17:34:09   Log-Likelihood:                -47.480\n",
      "No. Observations:                  10   AIC:                             98.96\n",
      "Df Residuals:                       8   BIC:                             99.56\n",
      "Df Model:                           1                                         \n",
      "Covariance Type:            nonrobust                                         \n",
      "==============================================================================\n",
      "                 coef    std err          t      P>|t|      [0.025      0.975]\n",
      "------------------------------------------------------------------------------\n",
      "Intercept    108.4477     76.430      1.419      0.194     -67.800     284.696\n",
      "X             11.5219      3.310      3.481      0.008       3.890      19.154\n",
      "==============================================================================\n",
      "Omnibus:                        0.850   Durbin-Watson:                   1.374\n",
      "Prob(Omnibus):                  0.654   Jarque-Bera (JB):                0.595\n",
      "Skew:                           0.045   Prob(JB):                        0.743\n",
      "Kurtosis:                       1.808   Cond. No.                         179.\n",
      "==============================================================================\n",
      "\n",
      "Notes:\n",
      "[1] Standard Errors assume that the covariance matrix of the errors is correctly specified.\n"
     ]
    },
    {
     "name": "stderr",
     "output_type": "stream",
     "text": [
      "C:\\Users\\nabil\\anaconda3\\lib\\site-packages\\scipy\\stats\\stats.py:1541: UserWarning: kurtosistest only valid for n>=20 ... continuing anyway, n=10\n",
      "  warnings.warn(\"kurtosistest only valid for n>=20 ... continuing \"\n"
     ]
    }
   ],
   "source": [
    "print(results1.summary())"
   ]
  },
  {
   "cell_type": "markdown",
   "id": "60e15189-09a0-45eb-a3e5-f4ea5e4c1077",
   "metadata": {},
   "source": [
    "Another way to do this is directly through the OLS class, where you have to specify to add the constant for the model fit."
   ]
  },
  {
   "cell_type": "code",
   "execution_count": 7,
   "id": "characteristic-migration",
   "metadata": {},
   "outputs": [
    {
     "name": "stderr",
     "output_type": "stream",
     "text": [
      "C:\\Users\\nabil\\anaconda3\\lib\\site-packages\\statsmodels\\tsa\\tsatools.py:142: FutureWarning: In a future version of pandas all arguments of concat except for the argument 'objs' will be keyword-only\n",
      "  x = pd.concat(x[::order], 1)\n"
     ]
    }
   ],
   "source": [
    "import statsmodels.api as sm\n",
    "\n",
    "X=sm.add_constant(X)\n",
    "model2 = sm.OLS(Y,X)\n",
    "results2=model2.fit()"
   ]
  },
  {
   "cell_type": "code",
   "execution_count": 8,
   "id": "mighty-variety",
   "metadata": {},
   "outputs": [
    {
     "name": "stdout",
     "output_type": "stream",
     "text": [
      "                            OLS Regression Results                            \n",
      "==============================================================================\n",
      "Dep. Variable:                   NPts   R-squared:                       0.602\n",
      "Model:                            OLS   Adj. R-squared:                  0.553\n",
      "Method:                 Least Squares   F-statistic:                     12.12\n",
      "Date:                Mon, 28 Feb 2022   Prob (F-statistic):            0.00830\n",
      "Time:                        17:34:09   Log-Likelihood:                -47.480\n",
      "No. Observations:                  10   AIC:                             98.96\n",
      "Df Residuals:                       8   BIC:                             99.56\n",
      "Df Model:                           1                                         \n",
      "Covariance Type:            nonrobust                                         \n",
      "==============================================================================\n",
      "                 coef    std err          t      P>|t|      [0.025      0.975]\n",
      "------------------------------------------------------------------------------\n",
      "const        108.4477     76.430      1.419      0.194     -67.800     284.696\n",
      "MTemp         11.5219      3.310      3.481      0.008       3.890      19.154\n",
      "==============================================================================\n",
      "Omnibus:                        0.850   Durbin-Watson:                   1.374\n",
      "Prob(Omnibus):                  0.654   Jarque-Bera (JB):                0.595\n",
      "Skew:                           0.045   Prob(JB):                        0.743\n",
      "Kurtosis:                       1.808   Cond. No.                         179.\n",
      "==============================================================================\n",
      "\n",
      "Notes:\n",
      "[1] Standard Errors assume that the covariance matrix of the errors is correctly specified.\n"
     ]
    },
    {
     "name": "stderr",
     "output_type": "stream",
     "text": [
      "C:\\Users\\nabil\\anaconda3\\lib\\site-packages\\scipy\\stats\\stats.py:1541: UserWarning: kurtosistest only valid for n>=20 ... continuing anyway, n=10\n",
      "  warnings.warn(\"kurtosistest only valid for n>=20 ... continuing \"\n"
     ]
    }
   ],
   "source": [
    "print(results2.summary())"
   ]
  },
  {
   "cell_type": "markdown",
   "id": "rapid-malta",
   "metadata": {},
   "source": [
    "In this example:\n",
    "* The intercept term (b0) = 108.45\n",
    "* The slope term (b1) = 11.52 - this implies that on average a unit increase in x (Max Temp) results in an increase of y (number of Patients) of 11.52 people\n",
    "* The t-value for the intercept term is -23.753 - Python calls this the t-value because it comes from the t-distribution.\n",
    "* The 95% confidence interval for the slope term are \\[3.89, 19.15\\].\n",
    "* The confidence interval do not cross zero meaning that zero is not a plausible value for the coefficients. x therefore significantly impacts the value of y.\n",
    "* The $R^2$ value is 0.602\n"
   ]
  },
  {
   "cell_type": "markdown",
   "id": "formed-tiffany",
   "metadata": {},
   "source": [
    "Let's investigate the results in more detail by checking the ANOVA table. ANOVA related methods can be found in the `statsmodels.stats.anova` library in the `anova_lm` class."
   ]
  },
  {
   "cell_type": "code",
   "execution_count": 9,
   "id": "dressed-captain",
   "metadata": {},
   "outputs": [
    {
     "name": "stdout",
     "output_type": "stream",
     "text": [
      "           df        sum_sq       mean_sq          F    PR(>F)\n",
      "X         1.0  11801.917773  11801.917773  12.119786  0.008303\n",
      "Residual  8.0   7790.182227    973.772778        NaN       NaN\n"
     ]
    }
   ],
   "source": [
    "from statsmodels.stats.anova import anova_lm\n",
    "anova_results = anova_lm(results1)\n",
    "print(anova_results)"
   ]
  },
  {
   "cell_type": "markdown",
   "id": "taken-student",
   "metadata": {},
   "source": [
    "A key additional piece of information we haven't got yet is the standard error of the model. The `scale` parameter of the model results provides the mean squared error. The square root of this value is the standard error."
   ]
  },
  {
   "cell_type": "code",
   "execution_count": 10,
   "id": "constitutional-subscription",
   "metadata": {},
   "outputs": [
    {
     "name": "stdout",
     "output_type": "stream",
     "text": [
      "The model mean squared error is: 973.7727784026996\n",
      "The model standard error is: 31.205332531519346\n"
     ]
    }
   ],
   "source": [
    "mean_squared_error = results1.scale\n",
    "print(\"The model mean squared error is: \" +str(mean_squared_error))\n",
    "print(\"The model standard error is: \" + str(np.sqrt(mean_squared_error)))"
   ]
  },
  {
   "cell_type": "markdown",
   "id": "subject-prague",
   "metadata": {},
   "source": [
    "Lastly, in order to use the model, we want to get the model coefficients without having to hard code the values. They are contained inside the model results."
   ]
  },
  {
   "cell_type": "code",
   "execution_count": 11,
   "id": "nervous-emperor",
   "metadata": {},
   "outputs": [
    {
     "name": "stdout",
     "output_type": "stream",
     "text": [
      "[108.44769404  11.52193476]\n"
     ]
    }
   ],
   "source": [
    "coefficients = results1._results.params\n",
    "print(coefficients)"
   ]
  },
  {
   "cell_type": "markdown",
   "id": "conceptual-orange",
   "metadata": {},
   "source": [
    "The alternate way to build linear regression models may be syntactically cleaner. They can be found in the `OLS` class in the `statsmodels.api` library. The drawback to this 'cleaner' method is that it doesn't provide convenient access to the model's ANOVA table. In cases where the ANOVA results aren't needed it may provide a cleaner solution.\n",
    "\n",
    "Again, by default this version DOES NOT include an intercept term. The intercept term needs to be added manually via the `add_constant` method."
   ]
  },
  {
   "cell_type": "markdown",
   "id": "2a13911b-967d-4409-a268-ad958fba1607",
   "metadata": {},
   "source": [
    "Finally, we will plot the regression line on the scatterlot"
   ]
  },
  {
   "cell_type": "code",
   "execution_count": 12,
   "id": "70eebe6e-6ed9-47b5-ab8d-1bda6a5c6662",
   "metadata": {},
   "outputs": [
    {
     "data": {
      "text/plain": [
       "Text(0.5, 0, 'Max. Temperature')"
      ]
     },
     "execution_count": 12,
     "metadata": {},
     "output_type": "execute_result"
    },
    {
     "data": {
      "image/png": "[encoded data removed]",
      "text/plain": [
       "<Figure size 432x288 with 1 Axes>"
      ]
     },
     "metadata": {
      "needs_background": "light"
     },
     "output_type": "display_data"
    }
   ],
   "source": [
    "#regplot() plots data and a linear regression line or can use lmplot to help in conditioning on other variables\n",
    "sns.regplot(x='MTemp',y='NPts',data=DF,ci=None)\n",
    "plt.ylabel(\"Number of Patients\")\n",
    "plt.xlabel(\"Max. Temperature\")"
   ]
  },
  {
   "cell_type": "code",
   "execution_count": null,
   "id": "2c21b180-756e-4457-9663-d8f15d2a1430",
   "metadata": {},
   "outputs": [],
   "source": []
  },
  {
   "cell_type": "code",
   "execution_count": null,
   "id": "95f2f24f-9429-4ec3-89f5-4fe8f3cc48ae",
   "metadata": {},
   "outputs": [],
   "source": []
  },
  {
   "cell_type": "code",
   "execution_count": null,
   "id": "c111c2e9-3fa7-43bd-88f1-0dde5871793c",
   "metadata": {},
   "outputs": [],
   "source": []
  },
  {
   "cell_type": "code",
   "execution_count": null,
   "id": "daf24365-12b7-4845-bb84-1a20caa21829",
   "metadata": {},
   "outputs": [],
   "source": []
  },
  {
   "cell_type": "code",
   "execution_count": null,
   "id": "2320efe6-aa09-46d0-a29f-4d6f284a022f",
   "metadata": {},
   "outputs": [],
   "source": []
  }
 ],
 "metadata": {
  "kernelspec": {
   "display_name": "Python 3 (ipykernel)",
   "language": "python",
   "name": "python3"
  },
  "language_info": {
   "codemirror_mode": {
    "name": "ipython",
    "version": 3
   },
   "file_extension": ".py",
   "mimetype": "text/x-python",
   "name": "python",
   "nbconvert_exporter": "python",
   "pygments_lexer": "ipython3",
   "version": "3.8.8"
  }
 },
 "nbformat": 4,
 "nbformat_minor": 5
}
