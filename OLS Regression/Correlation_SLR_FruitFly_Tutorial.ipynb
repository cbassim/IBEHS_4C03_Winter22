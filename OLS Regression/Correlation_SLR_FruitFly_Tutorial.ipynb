{
 "cells": [
  {
   "cell_type": "markdown",
   "id": "9a6754c2-64c1-4528-857c-2e63514b03e7",
   "metadata": {},
   "source": [
    "# Correlation and Simple Linear Regression Tutorial\n",
    "Learning Objectives\n",
    "* Calculate a correaltion coefficient\n",
    "* Use the non-parametric Spearman's correaltion\n",
    "* Estimate the intervept and slopes of regression models using ordinary least squares\n",
    "* Test regression models\n",
    "* Plot regression lines\n",
    "* Examine resdiual plots for deviations from the assumptions of linear regression"
   ]
  },
  {
   "cell_type": "code",
   "execution_count": 154,
   "id": "b983a835-38ef-44ea-998c-58cb98aa7a70",
   "metadata": {},
   "outputs": [
    {
     "name": "stdin",
     "output_type": "stream",
     "text": [
      "Once deleted, variables cannot be recovered. Proceed (y/[n])?  y\n"
     ]
    }
   ],
   "source": [
    "%reset\n",
    "import numpy as np\n",
    "import pandas as pd\n",
    "import matplotlib.pyplot as plt\n",
    "import seaborn as sns\n",
    "import scipy\n",
    "from scipy import stats\n",
    "from scipy.stats import norm\n",
    "import statsmodels.api as sm"
   ]
  },
  {
   "cell_type": "code",
   "execution_count": 155,
   "id": "fec7f75f-18b0-430e-8ec9-4c632f590c8b",
   "metadata": {},
   "outputs": [
    {
     "data": {
      "text/html": [
       "<div>\n",
       "<style scoped>\n",
       "    .dataframe tbody tr th:only-of-type {\n",
       "        vertical-align: middle;\n",
       "    }\n",
       "\n",
       "    .dataframe tbody tr th {\n",
       "        vertical-align: top;\n",
       "    }\n",
       "\n",
       "    .dataframe thead th {\n",
       "        text-align: right;\n",
       "    }\n",
       "</style>\n",
       "<table border=\"1\" class=\"dataframe\">\n",
       "  <thead>\n",
       "    <tr style=\"text-align: right;\">\n",
       "      <th></th>\n",
       "      <th>fatherTelomere</th>\n",
       "      <th>offspringLifespan</th>\n",
       "    </tr>\n",
       "  </thead>\n",
       "  <tbody>\n",
       "    <tr>\n",
       "      <th>0</th>\n",
       "      <td>0.35</td>\n",
       "      <td>-0.32</td>\n",
       "    </tr>\n",
       "    <tr>\n",
       "      <th>1</th>\n",
       "      <td>0.03</td>\n",
       "      <td>-0.03</td>\n",
       "    </tr>\n",
       "    <tr>\n",
       "      <th>2</th>\n",
       "      <td>0.14</td>\n",
       "      <td>0.11</td>\n",
       "    </tr>\n",
       "    <tr>\n",
       "      <th>3</th>\n",
       "      <td>0.10</td>\n",
       "      <td>0.28</td>\n",
       "    </tr>\n",
       "    <tr>\n",
       "      <th>4</th>\n",
       "      <td>0.22</td>\n",
       "      <td>0.31</td>\n",
       "    </tr>\n",
       "    <tr>\n",
       "      <th>5</th>\n",
       "      <td>0.23</td>\n",
       "      <td>0.18</td>\n",
       "    </tr>\n",
       "    <tr>\n",
       "      <th>6</th>\n",
       "      <td>0.30</td>\n",
       "      <td>0.29</td>\n",
       "    </tr>\n",
       "    <tr>\n",
       "      <th>7</th>\n",
       "      <td>0.32</td>\n",
       "      <td>0.27</td>\n",
       "    </tr>\n",
       "    <tr>\n",
       "      <th>8</th>\n",
       "      <td>0.31</td>\n",
       "      <td>0.19</td>\n",
       "    </tr>\n",
       "    <tr>\n",
       "      <th>9</th>\n",
       "      <td>0.31</td>\n",
       "      <td>0.12</td>\n",
       "    </tr>\n",
       "    <tr>\n",
       "      <th>10</th>\n",
       "      <td>0.39</td>\n",
       "      <td>0.04</td>\n",
       "    </tr>\n",
       "    <tr>\n",
       "      <th>11</th>\n",
       "      <td>0.33</td>\n",
       "      <td>-0.08</td>\n",
       "    </tr>\n",
       "    <tr>\n",
       "      <th>12</th>\n",
       "      <td>0.56</td>\n",
       "      <td>-0.11</td>\n",
       "    </tr>\n",
       "    <tr>\n",
       "      <th>13</th>\n",
       "      <td>0.67</td>\n",
       "      <td>0.15</td>\n",
       "    </tr>\n",
       "    <tr>\n",
       "      <th>14</th>\n",
       "      <td>0.58</td>\n",
       "      <td>0.18</td>\n",
       "    </tr>\n",
       "    <tr>\n",
       "      <th>15</th>\n",
       "      <td>1.01</td>\n",
       "      <td>0.55</td>\n",
       "    </tr>\n",
       "    <tr>\n",
       "      <th>16</th>\n",
       "      <td>0.93</td>\n",
       "      <td>0.81</td>\n",
       "    </tr>\n",
       "    <tr>\n",
       "      <th>17</th>\n",
       "      <td>0.62</td>\n",
       "      <td>0.48</td>\n",
       "    </tr>\n",
       "    <tr>\n",
       "      <th>18</th>\n",
       "      <td>0.65</td>\n",
       "      <td>0.46</td>\n",
       "    </tr>\n",
       "    <tr>\n",
       "      <th>19</th>\n",
       "      <td>0.52</td>\n",
       "      <td>0.41</td>\n",
       "    </tr>\n",
       "    <tr>\n",
       "      <th>20</th>\n",
       "      <td>0.48</td>\n",
       "      <td>0.40</td>\n",
       "    </tr>\n",
       "    <tr>\n",
       "      <th>21</th>\n",
       "      <td>0.42</td>\n",
       "      <td>0.44</td>\n",
       "    </tr>\n",
       "    <tr>\n",
       "      <th>22</th>\n",
       "      <td>0.46</td>\n",
       "      <td>0.50</td>\n",
       "    </tr>\n",
       "    <tr>\n",
       "      <th>23</th>\n",
       "      <td>0.49</td>\n",
       "      <td>0.64</td>\n",
       "    </tr>\n",
       "    <tr>\n",
       "      <th>24</th>\n",
       "      <td>0.35</td>\n",
       "      <td>0.61</td>\n",
       "    </tr>\n",
       "    <tr>\n",
       "      <th>25</th>\n",
       "      <td>0.38</td>\n",
       "      <td>0.77</td>\n",
       "    </tr>\n",
       "    <tr>\n",
       "      <th>26</th>\n",
       "      <td>0.45</td>\n",
       "      <td>0.83</td>\n",
       "    </tr>\n",
       "    <tr>\n",
       "      <th>27</th>\n",
       "      <td>0.45</td>\n",
       "      <td>0.80</td>\n",
       "    </tr>\n",
       "    <tr>\n",
       "      <th>28</th>\n",
       "      <td>0.45</td>\n",
       "      <td>0.80</td>\n",
       "    </tr>\n",
       "    <tr>\n",
       "      <th>29</th>\n",
       "      <td>0.47</td>\n",
       "      <td>0.98</td>\n",
       "    </tr>\n",
       "    <tr>\n",
       "      <th>30</th>\n",
       "      <td>0.54</td>\n",
       "      <td>0.97</td>\n",
       "    </tr>\n",
       "    <tr>\n",
       "      <th>31</th>\n",
       "      <td>0.61</td>\n",
       "      <td>0.96</td>\n",
       "    </tr>\n",
       "    <tr>\n",
       "      <th>32</th>\n",
       "      <td>0.61</td>\n",
       "      <td>0.93</td>\n",
       "    </tr>\n",
       "    <tr>\n",
       "      <th>33</th>\n",
       "      <td>0.83</td>\n",
       "      <td>1.19</td>\n",
       "    </tr>\n",
       "    <tr>\n",
       "      <th>34</th>\n",
       "      <td>0.99</td>\n",
       "      <td>1.20</td>\n",
       "    </tr>\n",
       "    <tr>\n",
       "      <th>35</th>\n",
       "      <td>1.12</td>\n",
       "      <td>1.23</td>\n",
       "    </tr>\n",
       "  </tbody>\n",
       "</table>\n",
       "</div>"
      ],
      "text/plain": [
       "    fatherTelomere  offspringLifespan\n",
       "0             0.35              -0.32\n",
       "1             0.03              -0.03\n",
       "2             0.14               0.11\n",
       "3             0.10               0.28\n",
       "4             0.22               0.31\n",
       "5             0.23               0.18\n",
       "6             0.30               0.29\n",
       "7             0.32               0.27\n",
       "8             0.31               0.19\n",
       "9             0.31               0.12\n",
       "10            0.39               0.04\n",
       "11            0.33              -0.08\n",
       "12            0.56              -0.11\n",
       "13            0.67               0.15\n",
       "14            0.58               0.18\n",
       "15            1.01               0.55\n",
       "16            0.93               0.81\n",
       "17            0.62               0.48\n",
       "18            0.65               0.46\n",
       "19            0.52               0.41\n",
       "20            0.48               0.40\n",
       "21            0.42               0.44\n",
       "22            0.46               0.50\n",
       "23            0.49               0.64\n",
       "24            0.35               0.61\n",
       "25            0.38               0.77\n",
       "26            0.45               0.83\n",
       "27            0.45               0.80\n",
       "28            0.45               0.80\n",
       "29            0.47               0.98\n",
       "30            0.54               0.97\n",
       "31            0.61               0.96\n",
       "32            0.61               0.93\n",
       "33            0.83               1.19\n",
       "34            0.99               1.20\n",
       "35            1.12               1.23"
      ]
     },
     "execution_count": 155,
     "metadata": {},
     "output_type": "execute_result"
    }
   ],
   "source": [
    "fruitfly=pd.read_csv('FruitFly.csv')\n",
    "fruitfly"
   ]
  },
  {
   "cell_type": "markdown",
   "id": "dcce3334-115f-44d2-beef-e7ed3bb2f411",
   "metadata": {},
   "source": [
    "# Make a scatterplot of x= fatherTelomere and y=offspringLifespan\n",
    "\n",
    "Do you think there is a realtionship between these two variables?  Describe this relationship."
   ]
  },
  {
   "cell_type": "code",
   "execution_count": null,
   "id": "f78f344b-12d7-4233-a8e7-ec0283e75d6d",
   "metadata": {},
   "outputs": [],
   "source": [
    "\n"
   ]
  },
  {
   "cell_type": "code",
   "execution_count": 163,
   "id": "276bd63a-a7e9-48f0-9ea7-65c81f8f56aa",
   "metadata": {},
   "outputs": [
    {
     "data": {
      "text/plain": [
       "<seaborn.axisgrid.JointGrid at 0x1cb2efa16d0>"
      ]
     },
     "execution_count": 163,
     "metadata": {},
     "output_type": "execute_result"
    },
    {
     "data": {
      "image/png": "[encoded data removed]",
      "text/plain": [
       "<Figure size 432x432 with 3 Axes>"
      ]
     },
     "metadata": {
      "needs_background": "light"
     },
     "output_type": "display_data"
    }
   ],
   "source": [
    "sns.jointplot(x=\"fatherTelomere\",y=\"offspringLifespan\",data=fruitfly)"
   ]
  },
  {
   "cell_type": "markdown",
   "id": "48e2b57a-5bfc-4976-8be0-b6bf417c35e1",
   "metadata": {},
   "source": [
    "# Use the Scipy stats.pearsonr to run a Pearspn's r test for these two variables.  \n",
    "\n",
    "What do the results tell us?"
   ]
  },
  {
   "cell_type": "code",
   "execution_count": null,
   "id": "8e05828c-7f4f-4b6c-81cd-7c52439145e3",
   "metadata": {},
   "outputs": [],
   "source": [
    "\n"
   ]
  },
  {
   "cell_type": "markdown",
   "id": "113da8b9-db61-4018-99a0-19578532723e",
   "metadata": {},
   "source": [
    "# Use the Scipy stats.spearmanr to run a Spearman's test for these two variables.\n",
    "\n",
    "What do the results tell us?  When would you use this test?"
   ]
  },
  {
   "cell_type": "code",
   "execution_count": null,
   "id": "2274d874-4157-43e1-8e46-81fd9eaaff1b",
   "metadata": {},
   "outputs": [],
   "source": [
    "\n"
   ]
  },
  {
   "cell_type": "markdown",
   "id": "aebaedbf-4653-41ec-850e-cace680b3f21",
   "metadata": {},
   "source": [
    "Let's explore the normality of the 2 variables.  Normality of the variables is not required, but it is a good idea to get a feel for the distribution of the variables."
   ]
  },
  {
   "cell_type": "code",
   "execution_count": 160,
   "id": "ee710cfb-bd8c-4e52-8fdf-9ef42883dcb6",
   "metadata": {},
   "outputs": [
    {
     "data": {
      "text/plain": [
       "ShapiroResult(statistic=0.9489876627922058, pvalue=0.09717478603124619)"
      ]
     },
     "execution_count": 160,
     "metadata": {},
     "output_type": "execute_result"
    }
   ],
   "source": [
    "stats.shapiro(fruitfly[\"fatherTelomere\"])"
   ]
  },
  {
   "cell_type": "code",
   "execution_count": 161,
   "id": "e53e5a88-675b-4ef6-a82c-e084ac0e4ba6",
   "metadata": {},
   "outputs": [
    {
     "data": {
      "text/plain": [
       "ShapiroResult(statistic=0.9736367464065552, pvalue=0.5328620076179504)"
      ]
     },
     "execution_count": 161,
     "metadata": {},
     "output_type": "execute_result"
    }
   ],
   "source": [
    "stats.shapiro(fruitfly[\"offspringLifespan\"])"
   ]
  },
  {
   "cell_type": "markdown",
   "id": "ea4429ad-2059-40eb-a477-ba1ac4afc3ad",
   "metadata": {},
   "source": [
    "# Assumptions of SLR Review\n",
    "\n",
    "L:  Linear relationship assumed.  The mean of the response varaibles in a linear combination of the parameters (regression coefficients) and predcitor variables.  Models have to be linear in the parameters. \n",
    "\n",
    "I:  Independence of residuals:  Observations are independent of each other. Errors should be uncorrealted (No autocorrelation) which can often occur with time series data or other dependent datasets.  \n",
    "\n",
    "N:  Normality:  Normal distribution of the residuals.  The resdiuals have a normal distribution conditional of the regressors (predictors).   \n",
    "\n",
    "E:  Equal variance of the residuals.  This equality of the variance of the residuals is also called homoscedasticity.  The variance of the residuals is the same for any value of the predictor.\n"
   ]
  },
  {
   "cell_type": "markdown",
   "id": "fa1ed571-f986-4280-a90b-212d871c3092",
   "metadata": {},
   "source": [
    "# Fit a Simple Linear Regression Model\n",
    "\n",
    "We will now fit a SLR model to the data.  We will use linear regression to regress the outcome (y, dependent value) of offspringLifespan on the predictor (x, regressor, explainatory or independent value) of fatherTelemere length.  \n",
    "\n",
    "In our data set we have y as the dependent variable, and x as the independent variable. We will first analyze how our model performs using just the x variable to predict y (regress y on x).  This is simple linear regression.\n",
    "\n",
    "Regression models can be built in python using the from statsmodels.formula.api library, which contains an ols class. The ols class takes as input a DataFrame as well as a string expression indicating which form the regression model should take based on the column names of the dataframe. The general format is \"dependent_var_col_name ~ independent_var1_col_name + independent_var2_col_name + ...\".\n",
    "\n",
    "model= old(\"y~x\",data= )\n",
    "\n",
    "The ols command create the ols model object while the .fit() command computes the regression model and returns the model results. Let's see what's contained in the results of the model when we print out the summary results.\n",
    "\n",
    "# Fit the SLR model and then find the values asked for below:"
   ]
  },
  {
   "cell_type": "code",
   "execution_count": 169,
   "id": "9596cec9-dddb-45a7-bba9-5e0b8403e5ac",
   "metadata": {},
   "outputs": [],
   "source": [
    "from statsmodels.formula.api import ols\n",
    "import statsmodels.api as sm\n",
    "import matplotlib.pyplot as plt"
   ]
  },
  {
   "cell_type": "code",
   "execution_count": 170,
   "id": "cae8d7c0-4813-44f0-b5d7-d64e209062d0",
   "metadata": {},
   "outputs": [
    {
     "ename": "SyntaxError",
     "evalue": "invalid syntax (Temp/ipykernel_14976/3200596996.py, line 4)",
     "output_type": "error",
     "traceback": [
      "\u001b[1;36m  File \u001b[1;32m\"C:\\Users\\nabil\\AppData\\Local\\Temp/ipykernel_14976/3200596996.py\"\u001b[1;36m, line \u001b[1;32m4\u001b[0m\n\u001b[1;33m    print(results.summary())\u001b[0m\n\u001b[1;37m    ^\u001b[0m\n\u001b[1;31mSyntaxError\u001b[0m\u001b[1;31m:\u001b[0m invalid syntax\n"
     ]
    }
   ],
   "source": [
    "#fit the simple linear regression model\n",
    "model=ols(\n",
    "results=model.fit()\n",
    "print(results.summary())"
   ]
  },
  {
   "cell_type": "markdown",
   "id": "e7cd0f52-6f80-48b2-9912-9dca7e40726c",
   "metadata": {},
   "source": [
    "In this example:\n",
    "* The intercept term (b0) = \n",
    "* The slope term (b1) = \n",
    "* This is the estimate of the slope of the regression line.  This implies that on average a unit increase in x (fatherTelomere length) results in an increase of y (offspringLifespan days) of 0.9823 units\n",
    "* The t-value for the intercept term is =\n",
    "* Python calls this the t-value because it comes from the t-distribution.\n",
    "* The 95% confidence interval for the slope term are =\n",
    "* The confidence interval does not cross zero meaning that zero is not a plausible value for the coefficients. x therefore significantly impacts the value of y.\n",
    "* The $R^2$ value is =\n",
    "\n",
    "Note that for Simple Linear Regression, $r^2$ is equal to $R^2$ \\\n",
    "r=  \\\n",
    "$R^2$ is the coefficient of detrmination and is the proportion of variation in the dependent variable that is predicted from the independent variables.  It will be reviewed in detail when we discuss goodness of the model fit.  The value of 0.377 means that the model (here our one predictor variable) explains 37.7% of the variability in our outcome.  \n",
    "\n",
    "The standard error ad the p-value for the predictor is provided.  Here we can see that the p-value for the null hypothesis that the true population slope is 0 is very low, less than 0.001.  \n",
    "\n",
    "The best fit of the line fitted to this data is =:  \\\n",
    "o"
   ]
  },
  {
   "cell_type": "markdown",
   "id": "85ea1947-17a5-4459-a902-a964b6a3998f",
   "metadata": {},
   "source": [
    "The top of the summary gives the OLS Regression Results with some model statistics.  A main one here is the $R^2$ value.  \n",
    "\n",
    "The next part of the summary provides the coefficients for the fitted line.  The intercept is if all predcitor variables were at 0; it is the b0 or a in the fitted line and is the constant added to explain the stating point for the line.  The x coef provides the measurement of how the change in that variable affects the dependent variable and is the b or m in the fitted line."
   ]
  },
  {
   "cell_type": "markdown",
   "id": "186e5e8f-a983-4780-8c90-89d379e86815",
   "metadata": {},
   "source": [
    "# Residual (error) review"
   ]
  },
  {
   "cell_type": "markdown",
   "id": "e44e82ad-8b94-407c-b3fe-3096875ccf01",
   "metadata": {},
   "source": [
    "We will calculate the prediction and the errors and review these.  First we will plot the predictor against the actual y value and the fitted line.  This gives us some idea of the linerarity and the residual behavior. "
   ]
  },
  {
   "cell_type": "code",
   "execution_count": 147,
   "id": "72f3a53a-6e5c-4047-b396-016ba4032a28",
   "metadata": {},
   "outputs": [
    {
     "name": "stderr",
     "output_type": "stream",
     "text": [
      "C:\\Users\\nabil\\anaconda3\\lib\\site-packages\\seaborn\\_decorators.py:36: FutureWarning: Pass the following variables as keyword args: x, y. From version 0.12, the only valid positional argument will be `data`, and passing other arguments without an explicit keyword will result in an error or misinterpretation.\n",
      "  warnings.warn(\n",
      "C:\\Users\\nabil\\anaconda3\\lib\\site-packages\\seaborn\\_decorators.py:36: FutureWarning: Pass the following variables as keyword args: x, y. From version 0.12, the only valid positional argument will be `data`, and passing other arguments without an explicit keyword will result in an error or misinterpretation.\n",
      "  warnings.warn(\n"
     ]
    },
    {
     "data": {
      "image/png": "[encoded data removed]",
      "text/plain": [
       "<Figure size 432x288 with 1 Axes>"
      ]
     },
     "metadata": {
      "needs_background": "light"
     },
     "output_type": "display_data"
    }
   ],
   "source": [
    "# Calculate the predictions and errors based on the model\n",
    "y_pred=0.0051+0.9823*fruitfly[\"fatherTelomere\"]\n",
    "y_value=fruitfly[\"offspringLifespan\"]\n",
    "error=y_value-y_pred\n",
    "ax=sns.scatterplot(fruitfly[\"fatherTelomere\"],fruitfly[\"offspringLifespan\"])\n",
    "ax=sns.scatterplot(fruitfly[\"fatherTelomere\"],y_pred)"
   ]
  },
  {
   "cell_type": "markdown",
   "id": "3c0f58e2-8ca1-4861-95c2-eb8ba8c5d843",
   "metadata": {},
   "source": [
    "Next we will look at the predicton and the residuals.  We can see if the errors are scattered above and below the 0 line randomly or if they have a shape that could mean that linearity is not met.  This also shows that the variance of the resduals is fairly equal across values of the predctor, checking the assumption of equal variance of the errors (the errors are fairly equal below and above the 0 line).  We can also scan for any independence issues to see if there is correlation in the residuals.  "
   ]
  },
  {
   "cell_type": "code",
   "execution_count": 148,
   "id": "2befe0ae-d12e-43d9-ad33-fac5959be058",
   "metadata": {},
   "outputs": [
    {
     "name": "stderr",
     "output_type": "stream",
     "text": [
      "C:\\Users\\nabil\\anaconda3\\lib\\site-packages\\seaborn\\_decorators.py:36: FutureWarning: Pass the following variables as keyword args: x, y. From version 0.12, the only valid positional argument will be `data`, and passing other arguments without an explicit keyword will result in an error or misinterpretation.\n",
      "  warnings.warn(\n"
     ]
    },
    {
     "data": {
      "text/plain": [
       "<matplotlib.collections.LineCollection at 0x1cb2d7b6a30>"
      ]
     },
     "execution_count": 148,
     "metadata": {},
     "output_type": "execute_result"
    },
    {
     "data": {
      "image/png": "[encoded data removed]",
      "text/plain": [
       "<Figure size 432x288 with 1 Axes>"
      ]
     },
     "metadata": {
      "needs_background": "light"
     },
     "output_type": "display_data"
    }
   ],
   "source": [
    "sns.scatterplot(fruitfly[\"fatherTelomere\"],error)\n",
    "plt.hlines(0,0,1.2,color='red')"
   ]
  },
  {
   "cell_type": "markdown",
   "id": "206ad133-b5ca-47e9-bcfd-ca40266014ea",
   "metadata": {},
   "source": [
    "You can call the statsmodels graphics call for plot_regress_exog as in the exmpale below to see several linera regression diagnostic plots easily. You can see the top two are equivalent to the ones we produced.  "
   ]
  },
  {
   "cell_type": "code",
   "execution_count": 149,
   "id": "72224ebd-0b8d-4c53-a0f6-a1e8c6647415",
   "metadata": {},
   "outputs": [
    {
     "data": {
      "image/png": "[encoded data removed]",
      "text/plain": [
       "<Figure size 864x576 with 4 Axes>"
      ]
     },
     "metadata": {
      "needs_background": "light"
     },
     "output_type": "display_data"
    }
   ],
   "source": [
    "fig=plt.figure(figsize=(12,8))\n",
    "fig=sm.graphics.plot_regress_exog(results,'x',fig=fig)"
   ]
  },
  {
   "cell_type": "markdown",
   "id": "c4a8a08b-92de-4d6f-85ff-33b9e2528a67",
   "metadata": {},
   "source": [
    "Checking for the normality of the errors, we can look at the resiudals on a qplot against a normal distribution, plot the histogram of the erros, or run a test of normality with the residuals to make sure that this assumption is met.\n",
    "\n",
    "The residuals are kept in an array conatining the difference between the observed y adn the values of fitted y predicted by the linear model.  You can use these directly from our results from the regression ols model that we fitted above.  "
   ]
  },
  {
   "cell_type": "code",
   "execution_count": 150,
   "id": "9b8f870d-fe66-4b48-a5ed-50013a471ff6",
   "metadata": {},
   "outputs": [
    {
     "name": "stderr",
     "output_type": "stream",
     "text": [
      "C:\\Users\\nabil\\anaconda3\\lib\\site-packages\\statsmodels\\graphics\\gofplots.py:993: UserWarning: marker is redundantly defined by the 'marker' keyword argument and the fmt string \"bo\" (-> marker='o'). The keyword argument will take precedence.\n",
      "  ax.plot(x, y, fmt, **plot_style)\n"
     ]
    },
    {
     "data": {
      "image/png": "[encoded data removed]",
      "text/plain": [
       "<Figure size 432x288 with 1 Axes>"
      ]
     },
     "metadata": {
      "needs_background": "light"
     },
     "output_type": "display_data"
    }
   ],
   "source": [
    "sm.qqplot(results.resid,line='s')\n",
    "plt.show()"
   ]
  },
  {
   "cell_type": "code",
   "execution_count": 151,
   "id": "cb70065a-4577-4acc-b4ab-982c09e1a1a6",
   "metadata": {},
   "outputs": [
    {
     "data": {
      "text/plain": [
       "<AxesSubplot:ylabel='Density'>"
      ]
     },
     "execution_count": 151,
     "metadata": {},
     "output_type": "execute_result"
    },
    {
     "data": {
      "image/png": "[encoded data removed]",
      "text/plain": [
       "<Figure size 432x288 with 1 Axes>"
      ]
     },
     "metadata": {
      "needs_background": "light"
     },
     "output_type": "display_data"
    }
   ],
   "source": [
    "sns.histplot(x=results.resid, stat='density',kde=True)"
   ]
  },
  {
   "cell_type": "code",
   "execution_count": 152,
   "id": "3433ad7e-c4cd-470b-98c9-d837aba04e04",
   "metadata": {},
   "outputs": [
    {
     "data": {
      "text/plain": [
       "ShapiroResult(statistic=0.9564460515975952, pvalue=0.16669777035713196)"
      ]
     },
     "execution_count": 152,
     "metadata": {},
     "output_type": "execute_result"
    }
   ],
   "source": [
    "stats.shapiro(results.resid)"
   ]
  },
  {
   "cell_type": "markdown",
   "id": "2a07fde5-18db-477a-aac0-ca52c34d74f4",
   "metadata": {},
   "source": [
    "Let's plot the data and the linear regression fitted line directly throgh regplot.  We can see the 95% CI of the regression estimate."
   ]
  },
  {
   "cell_type": "code",
   "execution_count": 153,
   "id": "ac61352c-1202-4d12-b592-df5a7971e465",
   "metadata": {},
   "outputs": [
    {
     "name": "stderr",
     "output_type": "stream",
     "text": [
      "C:\\Users\\nabil\\anaconda3\\lib\\site-packages\\seaborn\\_decorators.py:36: FutureWarning: Pass the following variables as keyword args: x, y. From version 0.12, the only valid positional argument will be `data`, and passing other arguments without an explicit keyword will result in an error or misinterpretation.\n",
      "  warnings.warn(\n"
     ]
    },
    {
     "data": {
      "text/plain": [
       "<AxesSubplot:xlabel='fatherTelomere', ylabel='offspringLifespan'>"
      ]
     },
     "execution_count": 153,
     "metadata": {},
     "output_type": "execute_result"
    },
    {
     "data": {
      "image/png": "[encoded data removed]",
      "text/plain": [
       "<Figure size 432x288 with 1 Axes>"
      ]
     },
     "metadata": {
      "needs_background": "light"
     },
     "output_type": "display_data"
    }
   ],
   "source": [
    "#Plot data and the linear regression model fit\n",
    "# 95% CI for the regression estimate\n",
    "sns.regplot(fruitfly[\"fatherTelomere\"],fruitfly[\"offspringLifespan\"],fit_reg=True,ci=95)"
   ]
  },
  {
   "cell_type": "code",
   "execution_count": null,
   "id": "0cae8094-c056-4c7e-974b-ab35c9e9b562",
   "metadata": {},
   "outputs": [],
   "source": []
  },
  {
   "cell_type": "code",
   "execution_count": null,
   "id": "cca43d34-dc2a-4259-a130-60af19b3107f",
   "metadata": {},
   "outputs": [],
   "source": []
  },
  {
   "cell_type": "code",
   "execution_count": null,
   "id": "8d2b0283-089f-4655-85b4-ce5213444a5c",
   "metadata": {},
   "outputs": [],
   "source": []
  }
 ],
 "metadata": {
  "kernelspec": {
   "display_name": "Python 3 (ipykernel)",
   "language": "python",
   "name": "python3"
  },
  "language_info": {
   "codemirror_mode": {
    "name": "ipython",
    "version": 3
   },
   "file_extension": ".py",
   "mimetype": "text/x-python",
   "name": "python",
   "nbconvert_exporter": "python",
   "pygments_lexer": "ipython3",
   "version": "3.8.8"
  }
 },
 "nbformat": 4,
 "nbformat_minor": 5
}
