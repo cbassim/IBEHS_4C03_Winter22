{
 "cells": [
  {
   "cell_type": "code",
   "execution_count": 1,
   "id": "b983a835-38ef-44ea-998c-58cb98aa7a70",
   "metadata": {},
   "outputs": [
    {
     "name": "stdin",
     "output_type": "stream",
     "text": [
      "Once deleted, variables cannot be recovered. Proceed (y/[n])?  y\n"
     ]
    }
   ],
   "source": [
    "%reset\n",
    "import numpy as np\n",
    "import pandas as pd\n",
    "import matplotlib.pyplot as plt\n",
    "import seaborn as sns\n",
    "import scipy\n",
    "from scipy import stats\n",
    "from scipy.stats import norm\n",
    "import statsmodels.api as sm"
   ]
  },
  {
   "cell_type": "markdown",
   "id": "cb1c536f-21ec-4a41-b2ec-b3df31396d5b",
   "metadata": {},
   "source": [
    "# Problem 1\n",
    "Sample t-test for testing for the differences in means: Independent t-test\n",
    "Load and explore the data"
   ]
  },
  {
   "cell_type": "code",
   "execution_count": 2,
   "id": "49c689c9-d855-4da7-afe4-55b350c519bb",
   "metadata": {},
   "outputs": [],
   "source": [
    "A=pd.Series([3397,5609,3149,4985,2254,4086,3480,3797,2370,3942,2472,4445])\n",
    "B=pd.Series([2935,259,1500,2435,3873,1035,2965,2752,1095,1593,4091,1617])"
   ]
  },
  {
   "cell_type": "code",
   "execution_count": 3,
   "id": "51a73864-cd73-42e3-b11a-cbf529bbf11c",
   "metadata": {},
   "outputs": [
    {
     "data": {
      "image/png": "[encoded data removed]",
      "text/plain": [
       "<Figure size 432x288 with 1 Axes>"
      ]
     },
     "metadata": {
      "needs_background": "light"
     },
     "output_type": "display_data"
    }
   ],
   "source": [
    "# 1. Plot the data to visualize\n",
    "ax=sns.boxplot(data=[A,B],showmeans=True)\n",
    "ax.set(xlabel=\"Treatemnt Group\")\n",
    "ax.set(ylabel=\"Fluorescence\")\n",
    "ax.set(xticklabels=[\"Tumor\",\"Normal Tissue\"])\n",
    "ax=sns.swarmplot(data=[A,B])"
   ]
  },
  {
   "cell_type": "markdown",
   "id": "34a67e99-014b-48f3-b783-2add1258f2ab",
   "metadata": {},
   "source": [
    "Symmetrical distributions, noraml in appearance, equal variance in appearance.  "
   ]
  },
  {
   "cell_type": "code",
   "execution_count": 4,
   "id": "8e2691cd-e027-40c8-bf73-2774890e1f12",
   "metadata": {},
   "outputs": [
    {
     "data": {
      "text/plain": [
       "count      12.000000\n",
       "mean     3665.500000\n",
       "std      1038.566626\n",
       "min      2254.000000\n",
       "25%      2979.750000\n",
       "50%      3638.500000\n",
       "75%      4175.750000\n",
       "max      5609.000000\n",
       "dtype: float64"
      ]
     },
     "execution_count": 4,
     "metadata": {},
     "output_type": "execute_result"
    }
   ],
   "source": [
    "A.describe()"
   ]
  },
  {
   "cell_type": "markdown",
   "id": "0e34bfd6-c4a8-4e59-954b-e64d27e4b773",
   "metadata": {},
   "source": [
    "Since we're not working with a dataframe in this example you can use the built-in numpy functions to calcualte the mean and standard deviation of our sample. By default numpy uses a maximum likelihood estimate for the standard deviation (degrees of freedom (DF) = n so ddof=0), so to have it do the unbiased estimation we set the ddofparameter = 1 (). Note that this is different than what pandas does. By default pandas uses ddof=1."
   ]
  },
  {
   "cell_type": "code",
   "execution_count": 5,
   "id": "3b838e8d-abd4-44f3-af2c-af45775352bd",
   "metadata": {},
   "outputs": [
    {
     "name": "stdout",
     "output_type": "stream",
     "text": [
      "1038.5666258664567\n",
      "1183.1794479539465\n"
     ]
    }
   ],
   "source": [
    "# standard error use ddof n-1\n",
    "stdB=np.std(B,ddof=1)\n",
    "stdA=np.std(A,ddof=1)\n",
    "print(stdA)\n",
    "print(stdB)"
   ]
  },
  {
   "cell_type": "code",
   "execution_count": 6,
   "id": "84ec7c5f-4b83-4e81-ba4c-27c4f7c54abe",
   "metadata": {},
   "outputs": [
    {
     "data": {
      "text/plain": [
       "1399913.6060606055"
      ]
     },
     "execution_count": 6,
     "metadata": {},
     "output_type": "execute_result"
    }
   ],
   "source": [
    "# variance = standard deviation ^2\n",
    "stdB**2"
   ]
  },
  {
   "cell_type": "code",
   "execution_count": 7,
   "id": "f6714375-fc19-46b1-b404-c93ac9d2c3e1",
   "metadata": {},
   "outputs": [
    {
     "data": {
      "text/plain": [
       "1078620.6363636365"
      ]
     },
     "execution_count": 7,
     "metadata": {},
     "output_type": "execute_result"
    }
   ],
   "source": [
    "stdA**2"
   ]
  },
  {
   "cell_type": "code",
   "execution_count": 8,
   "id": "414ba8ff-5124-4e29-8673-0d5ed272bd82",
   "metadata": {},
   "outputs": [
    {
     "data": {
      "text/plain": [
       "0.7704909015839544"
      ]
     },
     "execution_count": 8,
     "metadata": {},
     "output_type": "execute_result"
    }
   ],
   "source": [
    "# you can look at the ratio of your larger variance to your lower variance to get a feel for how close \n",
    "# they are to each other.\n",
    "\n",
    "1078621/1399914"
   ]
  },
  {
   "cell_type": "code",
   "execution_count": 9,
   "id": "7f8e9d69-a415-4668-ae2f-cfc205d05035",
   "metadata": {},
   "outputs": [
    {
     "name": "stdout",
     "output_type": "stream",
     "text": [
      "3665.5\n",
      "2179.1666666666665\n"
     ]
    }
   ],
   "source": [
    "meanB=np.mean(B)\n",
    "meanA=np.mean(A)\n",
    "print(meanA)\n",
    "print(meanB)"
   ]
  },
  {
   "cell_type": "markdown",
   "id": "a5c05729-b5f2-42ea-8c6e-034a2d49cbfa",
   "metadata": {},
   "source": [
    "# Problem 1 Part 2.\n",
    "First revew assumptions:  independence of sample (no trends within sample) and between samples (sample A does not affect sample B), normality, and equal variance.\n",
    "\n",
    "Let's look at the assumption of normality frst.  First we will run a normal test and then a Shapiro-Wilk test to test if the sample data is well-modelled by a normal distribution and to compute how likely it is for a random variable underlying the data set to be  normally distributed.  "
   ]
  },
  {
   "cell_type": "code",
   "execution_count": 10,
   "id": "5a38101d-1f45-487c-a1a9-e0b2a1f5bcc3",
   "metadata": {},
   "outputs": [
    {
     "name": "stderr",
     "output_type": "stream",
     "text": [
      "C:\\Users\\nabil\\anaconda3\\lib\\site-packages\\scipy\\stats\\stats.py:1541: UserWarning: kurtosistest only valid for n>=20 ... continuing anyway, n=12\n",
      "  warnings.warn(\"kurtosistest only valid for n>=20 ... continuing \"\n"
     ]
    },
    {
     "data": {
      "text/plain": [
       "NormaltestResult(statistic=0.3247895138349469, pvalue=0.8501055532465301)"
      ]
     },
     "execution_count": 10,
     "metadata": {},
     "output_type": "execute_result"
    }
   ],
   "source": [
    "stats.normaltest(A)"
   ]
  },
  {
   "cell_type": "markdown",
   "id": "172fa085-6882-4162-aa4b-8185d8aa87c7",
   "metadata": {},
   "source": [
    "Larger than 0.05 p-value means we fail to reject the null hypothesis (that the distribution of the sample is sig different from a normal distribution) and conclude that the sample is not differnt from a normal distribution"
   ]
  },
  {
   "cell_type": "code",
   "execution_count": 11,
   "id": "d26b3002-9af7-49b8-93f9-eb03ee7ee590",
   "metadata": {},
   "outputs": [
    {
     "data": {
      "text/plain": [
       "ShapiroResult(statistic=0.9616977572441101, pvalue=0.8077675700187683)"
      ]
     },
     "execution_count": 11,
     "metadata": {},
     "output_type": "execute_result"
    }
   ],
   "source": [
    "stats.shapiro(A)"
   ]
  },
  {
   "cell_type": "code",
   "execution_count": 12,
   "id": "eb9b28ec-8e39-4564-80c0-5ffbd75d284a",
   "metadata": {},
   "outputs": [
    {
     "data": {
      "text/plain": [
       "ShapiroResult(statistic=0.9576271176338196, pvalue=0.7494967579841614)"
      ]
     },
     "execution_count": 12,
     "metadata": {},
     "output_type": "execute_result"
    }
   ],
   "source": [
    "stats.shapiro(B)"
   ]
  },
  {
   "cell_type": "markdown",
   "id": "37605fa3-9fba-4fc2-be38-c0ec4bd92c79",
   "metadata": {},
   "source": [
    "We have shown that the two samples are normally distributed using these tests.  Now let's look at the assumption of equal variance (homogeneity of variance or homoscedasticity).  We want to assume that the varianes of the populations from which the different samples are drawn are equal.  First lets simply look at the ratio of the two sample variances.  This ratio F has a F distribution with ~F(n1-1,n2-1) for the dof of the numerator and the denominator.  Then we will look at the Levene's test, that tests the hypothesis that the population variances are equal.  The Levene test is pretty conservative, and you can use center='mean', 'median', or 'trimmed' to test with, with median being the most conservative and teh dafault in SciPy.  If the resulting p-value is less than the chose significnace level, the null hypothesis can be rejected and you conclude that there is a differnece between the variances.  Larger than 0.05 p-value measn we fail to reject the null hypthesis and conclude that we accept that the variances are the same.  "
   ]
  },
  {
   "cell_type": "code",
   "execution_count": 16,
   "id": "4c37641c-b5cd-4984-bc78-2af82e3bd7d6",
   "metadata": {},
   "outputs": [
    {
     "name": "stdout",
     "output_type": "stream",
     "text": [
      "0.7704908586458445\n",
      "0.336482281975137\n"
     ]
    }
   ],
   "source": [
    "F= (stdA)**2/(stdB)**2\n",
    "p_valueF=stats.f.cdf(F,11,11)\n",
    "print(F)\n",
    "print(p_valueF)"
   ]
  },
  {
   "cell_type": "code",
   "execution_count": 17,
   "id": "d3174299-2444-4771-94c4-19077f242091",
   "metadata": {},
   "outputs": [
    {
     "data": {
      "text/plain": [
       "LeveneResult(statistic=0.5783554630542586, pvalue=0.4550316264857416)"
      ]
     },
     "execution_count": 17,
     "metadata": {},
     "output_type": "execute_result"
    }
   ],
   "source": [
    "stats.levene(A,B,center='median')"
   ]
  },
  {
   "cell_type": "markdown",
   "id": "9c51aa98-6db8-444d-9b4a-f77a054a5bc5",
   "metadata": {},
   "source": [
    "We have looked at tests for normality and equal variance.  Let's also look at these assumptions visually using qq plots.  Remember that using qq plots are the best way and most accepted way to judge the assumptions of these tests, but the determiniations are subjective and take some getting use  to.    "
   ]
  },
  {
   "cell_type": "markdown",
   "id": "e117feda-610f-4712-8870-07b3b7425c99",
   "metadata": {},
   "source": [
    "Let's look at normality via qq plots and plot this data on two qq plots. This method to plot the qq plots also takes loc (mean=location) and scale (std=scale) as the values. We'll use the ones calculated from our data set because in actuality we don't know the true population parameters. The additional parameter line='45' plots the y=x line on the same plot."
   ]
  },
  {
   "cell_type": "code",
   "execution_count": 18,
   "id": "588fbb3f-7251-48f7-b78a-33854fe5d2aa",
   "metadata": {},
   "outputs": [
    {
     "name": "stderr",
     "output_type": "stream",
     "text": [
      "C:\\Users\\nabil\\anaconda3\\lib\\site-packages\\statsmodels\\graphics\\gofplots.py:993: UserWarning: marker is redundantly defined by the 'marker' keyword argument and the fmt string \"bo\" (-> marker='o'). The keyword argument will take precedence.\n",
      "  ax.plot(x, y, fmt, **plot_style)\n",
      "C:\\Users\\nabil\\anaconda3\\lib\\site-packages\\statsmodels\\graphics\\gofplots.py:993: UserWarning: marker is redundantly defined by the 'marker' keyword argument and the fmt string \"bo\" (-> marker='o'). The keyword argument will take precedence.\n",
      "  ax.plot(x, y, fmt, **plot_style)\n"
     ]
    },
    {
     "data": {
      "image/png": "[encoded data removed]",
      "text/plain": [
       "<Figure size 720x288 with 2 Axes>"
      ]
     },
     "metadata": {
      "needs_background": "light"
     },
     "output_type": "display_data"
    }
   ],
   "source": [
    "A.sort_values()\n",
    "B.sort_values()\n",
    "fig2,ax2=plt.subplots(nrows=1,ncols=2,figsize=(10,4))\n",
    "sm.qqplot(A,line='45',loc=meanA,scale=stdA,ax=ax2[0])\n",
    "sm.qqplot(B,line='45',loc=meanB,scale=stdB,ax=ax2[1])\n",
    "plt.show()"
   ]
  },
  {
   "cell_type": "markdown",
   "id": "44baff4e-ebc1-4797-ba93-c0b34655541d",
   "metadata": {},
   "source": [
    "# Problem 1 Part 3,4,5.  \n",
    "Now let's run the statistical test. We will look that using the Python library SciPy (that we imported as stats) and statsmodels (that we imported as sm).  We will run the hypothesis test and look at the 95% CI of the difference in means between the samples.  "
   ]
  },
  {
   "cell_type": "code",
   "execution_count": 19,
   "id": "6a8e7482-516a-4089-aaa3-e3ee08cf69b9",
   "metadata": {},
   "outputs": [
    {
     "data": {
      "text/plain": [
       "Ttest_indResult(statistic=3.270464045523678, pvalue=0.0034985860084311795)"
      ]
     },
     "execution_count": 19,
     "metadata": {},
     "output_type": "execute_result"
    }
   ],
   "source": [
    "stats.ttest_ind(A,B,equal_var=True)"
   ]
  },
  {
   "cell_type": "code",
   "execution_count": 20,
   "id": "722cff8b-add7-4731-a4fd-6e93d2a16025",
   "metadata": {},
   "outputs": [
    {
     "data": {
      "text/plain": [
       "(3.2704640455236778, 0.0034985860084311864, 22.0)"
      ]
     },
     "execution_count": 20,
     "metadata": {},
     "output_type": "execute_result"
    }
   ],
   "source": [
    "# 22 dof, n1+n2-2 = 12+12-2=22\n",
    "sm.stats.ttest_ind(A,B,usevar='pooled')"
   ]
  },
  {
   "cell_type": "code",
   "execution_count": 21,
   "id": "17d61050-3998-4e44-90a9-0697ae7c49ec",
   "metadata": {},
   "outputs": [
    {
     "name": "stdout",
     "output_type": "stream",
     "text": [
      "(543.8167280378224, 2428.8499386288445)\n"
     ]
    }
   ],
   "source": [
    "cm=sm.stats.CompareMeans(sm.stats.DescrStatsW(A),sm.stats.DescrStatsW(B))\n",
    "print(cm.tconfint_diff(usevar='pooled'))"
   ]
  },
  {
   "cell_type": "code",
   "execution_count": 22,
   "id": "d3e52f08-ef7f-4739-adb4-5123fc953c9b",
   "metadata": {},
   "outputs": [
    {
     "name": "stdout",
     "output_type": "stream",
     "text": [
      "The number of observations in the samples are: 12 and 12\n",
      "The standard deviation of the sampes are: 1038.5666258664567 and 1183.1794479539465\n",
      "The mean of the samples are: 3665.5 and 2179.1666666666665\n",
      "The varaince are the samples are: 1078620.6363636365 and 1399913.6060606055\n",
      "The degrees of freedom are: 22\n"
     ]
    }
   ],
   "source": [
    "nA=len(A)\n",
    "nB=len(B)\n",
    "print(\"The number of observations in the samples are: \" + str(nA)+\" and \" +str(nB))\n",
    "print(\"The standard deviation of the sampes are: \"+ str(stdA)+\" and \"+ str(stdB))\n",
    "print(\"The mean of the samples are: \"+ str(meanA) +\" and \"+str(meanB))\n",
    "print(\"The varaince are the samples are: \"+str(stdA**2)+\" and \"+ str(stdB**2))\n",
    "print(\"The degrees of freedom are: \"+ str(len(A)+len(B)-2))"
   ]
  },
  {
   "cell_type": "code",
   "execution_count": 23,
   "id": "688cec6a-e7c0-40ab-b55f-b7f65a99ecff",
   "metadata": {},
   "outputs": [
    {
     "name": "stdout",
     "output_type": "stream",
     "text": [
      "The pooled standard deviation of the samples is:  1113.223751638511\n"
     ]
    }
   ],
   "source": [
    "s_pooled=np.sqrt((((nA-1)*stdA**2)+((nB-1)*stdB**2))/(nA+nB-2))\n",
    "print(\"The pooled standard deviation of the samples is:  \"+str(s_pooled))"
   ]
  },
  {
   "cell_type": "code",
   "execution_count": 24,
   "id": "fc720103-f291-4c75-a21a-3757de749ec4",
   "metadata": {},
   "outputs": [
    {
     "name": "stdout",
     "output_type": "stream",
     "text": [
      "The standard error of the difference is: 454.4716935101901\n"
     ]
    }
   ],
   "source": [
    "StandErrorDiff=s_pooled*(np.sqrt(1/12+1/12))\n",
    "print(\"The standard error of the difference is: \"+str(StandErrorDiff))"
   ]
  },
  {
   "cell_type": "code",
   "execution_count": 25,
   "id": "a154a7ba-56cf-4443-bbe1-ace214e84c99",
   "metadata": {},
   "outputs": [
    {
     "name": "stdout",
     "output_type": "stream",
     "text": [
      "2.0738730679040147\n"
     ]
    }
   ],
   "source": [
    "Critical_t=stats.t.ppf(0.975,22)\n",
    "print(Critical_t)"
   ]
  },
  {
   "cell_type": "code",
   "execution_count": 26,
   "id": "535b1f99-17a8-41ca-a31c-c2f818a30ca0",
   "metadata": {},
   "outputs": [
    {
     "name": "stdout",
     "output_type": "stream",
     "text": [
      "The difference in means is:1486.3333333333335\n"
     ]
    }
   ],
   "source": [
    "print(\"The difference in means is:\" + str(meanA-meanB))"
   ]
  },
  {
   "cell_type": "code",
   "execution_count": 27,
   "id": "814808e6-8b69-4c69-b1dc-eca7f3bf5b0b",
   "metadata": {},
   "outputs": [
    {
     "data": {
      "text/plain": [
       "0.2886751345948129"
      ]
     },
     "execution_count": 27,
     "metadata": {},
     "output_type": "execute_result"
    }
   ],
   "source": [
    "1/(np.sqrt(12))"
   ]
  },
  {
   "cell_type": "markdown",
   "id": "69fbbad9-b1e9-4138-9939-52f2b031d3f9",
   "metadata": {},
   "source": [
    "Hypothesis test; Part 3"
   ]
  },
  {
   "attachments": {
    "f4933fb4-e8c7-40af-aeb9-61ef88743d43.png": {
     "image/png": "[encoded data removed]"
    }
   },
   "cell_type": "markdown",
   "id": "d6e45afb-b372-49ea-a9af-ad378029dd9a",
   "metadata": {},
   "source": [
    "Null hypthesis= u1=u2 \\\n",
    "Alternative hypothesis = u1 $\\neq$ u2\n",
    "\n",
    "alpha level = 0.05, two sided test\n",
    "\n",
    "test statistic = ![image.png](attachment:f4933fb4-e8c7-40af-aeb9-61ef88743d43.png) \n",
    "\n",
    "critical t = t at dof= n1+n2-2 =22 and at 1-alpha/2 = 2.074\n",
    "Go to the t-table and find the 0.975 probability at dof=22; t=2.074\n",
    "\n",
    "If the test statistic is more extreme than the critical value, then you have a significant differnce. \n",
    "\n",
    "The p-value is found at the probability of being at or more exteme than the test statistic, doubled for the 2-tailed test. \n",
    "\n",
    "Go to the t-table and find the probability at or above t=3.27 at dof=22. This is between 0.0005 and 0.005, so dobling this for a two tailed test is between 0.001 and 0.01.  The exact p-value is 0.0035.  "
   ]
  },
  {
   "cell_type": "code",
   "execution_count": 28,
   "id": "20e32008-1c2d-437b-a8c1-ced2f4fbabc7",
   "metadata": {},
   "outputs": [
    {
     "data": {
      "text/plain": [
       "3.270464045523678"
      ]
     },
     "execution_count": 28,
     "metadata": {},
     "output_type": "execute_result"
    }
   ],
   "source": [
    "test_statistic = (meanA-meanB) / (s_pooled*np.sqrt(1/12+1/12))\n",
    "test_statistic"
   ]
  },
  {
   "cell_type": "code",
   "execution_count": 29,
   "id": "36081223-880c-4e29-adb6-9440fbafb104",
   "metadata": {},
   "outputs": [
    {
     "data": {
      "text/plain": [
       "2.0738730679040147"
      ]
     },
     "execution_count": 29,
     "metadata": {},
     "output_type": "execute_result"
    }
   ],
   "source": [
    "stats.t.ppf(0.975,22)"
   ]
  },
  {
   "cell_type": "code",
   "execution_count": 30,
   "id": "0ee1990e-633b-4fad-9c9f-4d19031ba57c",
   "metadata": {},
   "outputs": [
    {
     "data": {
      "text/plain": [
       "0.0017512158815846668"
      ]
     },
     "execution_count": 30,
     "metadata": {},
     "output_type": "execute_result"
    }
   ],
   "source": [
    "1-(stats.t.cdf(3.27,22))"
   ]
  },
  {
   "cell_type": "code",
   "execution_count": 31,
   "id": "95f88b33-1d3f-4d49-a3d0-3086129a9a80",
   "metadata": {},
   "outputs": [
    {
     "data": {
      "text/plain": [
       "0.0035024317631693336"
      ]
     },
     "execution_count": 31,
     "metadata": {},
     "output_type": "execute_result"
    }
   ],
   "source": [
    "2*(1-(stats.t.cdf(3.27,22)))"
   ]
  },
  {
   "cell_type": "code",
   "execution_count": 32,
   "id": "3f215d56-ac78-4c58-8d0d-d7f6fd7011e2",
   "metadata": {},
   "outputs": [
    {
     "data": {
      "text/plain": [
       "0.0017512158815846397"
      ]
     },
     "execution_count": 32,
     "metadata": {},
     "output_type": "execute_result"
    }
   ],
   "source": [
    "stats.t.cdf(-3.27,22)"
   ]
  },
  {
   "cell_type": "markdown",
   "id": "ea6cd68b-7595-46f8-b29d-42775648341b",
   "metadata": {},
   "source": [
    "# 95% CI of each of the sample means; Part 4 \n",
    "𝑥¯−𝑐𝑡∗𝑠(√𝑛)<=𝜇<=𝑥¯+𝑐𝑡∗𝑠(√𝑛\n",
    "\n",
    "where $\\bar{x}$ is the sample mean \\\n",
    "where $c_n$ is the critical value of z using the standard normal probability distribution at a certain confidence level \\\n",
    "where $\\sigma$ is the known population standard deviation \\\n",
    "where n is the sample size"
   ]
  },
  {
   "cell_type": "code",
   "execution_count": 33,
   "id": "d0bacb08-f405-4b04-93e5-4a297f28778e",
   "metadata": {},
   "outputs": [
    {
     "data": {
      "text/plain": [
       "(3005.6262476537972, 4325.373752346202)"
      ]
     },
     "execution_count": 33,
     "metadata": {},
     "output_type": "execute_result"
    }
   ],
   "source": [
    "import statsmodels as sm\n",
    "CI_tA=sm.stats.weightstats._tconfint_generic(meanA,stdA/np.sqrt(12),11,0.05,alternative='two-sided')\n",
    "CI_tA"
   ]
  },
  {
   "cell_type": "code",
   "execution_count": 34,
   "id": "444b5edc-b590-43a8-8d19-04c322bd41b1",
   "metadata": {},
   "outputs": [
    {
     "data": {
      "text/plain": [
       "4325.373752346202"
      ]
     },
     "execution_count": 34,
     "metadata": {},
     "output_type": "execute_result"
    }
   ],
   "source": [
    "meanA+(stats.t.ppf(0.975,11))*stdA/np.sqrt(12)"
   ]
  },
  {
   "cell_type": "code",
   "execution_count": 35,
   "id": "fd4236c7-a02e-419b-8bdf-a8cefb6c8096",
   "metadata": {},
   "outputs": [
    {
     "data": {
      "text/plain": [
       "3005.6262476537972"
      ]
     },
     "execution_count": 35,
     "metadata": {},
     "output_type": "execute_result"
    }
   ],
   "source": [
    "meanA-(stats.t.ppf(0.975,11))*stdA/np.sqrt(12)"
   ]
  },
  {
   "cell_type": "code",
   "execution_count": 36,
   "id": "93c48863-5271-4892-9fa5-771abaa2cf42",
   "metadata": {},
   "outputs": [
    {
     "data": {
      "text/plain": [
       "1427.4103107670967"
      ]
     },
     "execution_count": 36,
     "metadata": {},
     "output_type": "execute_result"
    }
   ],
   "source": [
    "meanB-(stats.t.ppf(0.975,11))*stdB/np.sqrt(12)"
   ]
  },
  {
   "cell_type": "code",
   "execution_count": 37,
   "id": "d18b558a-54dd-4fa6-8790-a8198bae10f0",
   "metadata": {},
   "outputs": [
    {
     "data": {
      "text/plain": [
       "2839.0404190128693"
      ]
     },
     "execution_count": 37,
     "metadata": {},
     "output_type": "execute_result"
    }
   ],
   "source": [
    "meanB+(stats.t.ppf(0.975,11))*stdA/np.sqrt(12)"
   ]
  },
  {
   "cell_type": "code",
   "execution_count": 38,
   "id": "4ca69c0d-5dca-4630-87ff-6a165aad83b3",
   "metadata": {},
   "outputs": [
    {
     "data": {
      "text/plain": [
       "(1427.4103107670967, 2930.9230225662363)"
      ]
     },
     "execution_count": 38,
     "metadata": {},
     "output_type": "execute_result"
    }
   ],
   "source": [
    "CI_tB=sm.stats.weightstats._tconfint_generic(meanB,stdB/np.sqrt(12),11,0.05,alternative='two-sided')\n",
    "CI_tB"
   ]
  },
  {
   "cell_type": "markdown",
   "id": "745be5c6-62d0-4666-bb02-f67f93242dfe",
   "metadata": {},
   "source": [
    "each 95%CI does not cross each other and sample A is higher than sample B so we know this is a significnat differece."
   ]
  },
  {
   "cell_type": "markdown",
   "id": "b327911a-7a28-4a0d-9950-fa46800974b9",
   "metadata": {},
   "source": [
    "# 95% CI of the difference in mean; Part 5"
   ]
  },
  {
   "cell_type": "code",
   "execution_count": 39,
   "id": "6f95a011-7eca-4766-b4e5-5d3e58ce005d",
   "metadata": {},
   "outputs": [
    {
     "name": "stdout",
     "output_type": "stream",
     "text": [
      "543.8167280378224\n",
      "2428.8499386288445\n"
     ]
    }
   ],
   "source": [
    "LB=(meanA-meanB) - Critical_t*s_pooled* (np.sqrt(1/12 + 1/12))\n",
    "UB=(meanA-meanB) + Critical_t*s_pooled* (np.sqrt(1/12 + 1/12))\n",
    "print(LB)\n",
    "print(UB)"
   ]
  },
  {
   "cell_type": "markdown",
   "id": "5b2bf040-8774-473b-8201-328fd60f36c0",
   "metadata": {},
   "source": [
    "Interpretation:  the confidence interval for meanA-meanB (the difference in sample means) does not cross 0 and has a positive range of values.  The shows that mean A is greater than mean B, and that the difference in means is statistically significant at the 95% confidence level, with p=0.0035.  "
   ]
  },
  {
   "cell_type": "markdown",
   "id": "8dbfb309-5fda-427d-93e1-aed74a9b6583",
   "metadata": {},
   "source": [
    "# Power and Sample Size, Part 6"
   ]
  },
  {
   "cell_type": "code",
   "execution_count": 40,
   "id": "ac0111c5-f815-4b02-a953-59639c716a58",
   "metadata": {},
   "outputs": [
    {
     "data": {
      "text/plain": [
       "0.8780754120890645"
      ]
     },
     "execution_count": 40,
     "metadata": {},
     "output_type": "execute_result"
    }
   ],
   "source": [
    "import statsmodels.stats.power as smp\n",
    "# solve for power\n",
    "smp.tt_ind_solve_power(effect_size=(1486.333/1113),nobs1=12,alpha=0.05,alternative='two-sided',ratio=1)"
   ]
  },
  {
   "cell_type": "code",
   "execution_count": 41,
   "id": "a0d6b3cd-96f7-4655-9b85-c37453f439d7",
   "metadata": {},
   "outputs": [
    {
     "data": {
      "text/plain": [
       "0.5573672145184558"
      ]
     },
     "execution_count": 41,
     "metadata": {},
     "output_type": "execute_result"
    }
   ],
   "source": [
    "# solve for power for a smaller effect (difference in means)\n",
    "smp.tt_ind_solve_power(effect_size=(1000/1113),nobs1=12,alpha=0.05,alternative='two-sided',ratio=1)"
   ]
  },
  {
   "cell_type": "code",
   "execution_count": 42,
   "id": "e69c04a6-6d64-4d30-b796-aca5756d7645",
   "metadata": {},
   "outputs": [
    {
     "data": {
      "text/plain": [
       "27.030027493361164"
      ]
     },
     "execution_count": 42,
     "metadata": {},
     "output_type": "execute_result"
    }
   ],
   "source": [
    "# solve for n\n",
    "smp.tt_ind_solve_power(effect_size=(1000/1113),power=.9,alpha=0.05,alternative='two-sided',ratio=1)"
   ]
  },
  {
   "cell_type": "markdown",
   "id": "5f0da929-085b-4e51-9f84-22057fb3a7ed",
   "metadata": {},
   "source": [
    "power = probability( -t(at 0.975 and dof=22) + ES) \\\n",
    "ES= diff means / standard error estimate = 1486.333/(1113*sqrt(1/12+1/12)) = 3.271 \\\n",
    "power = probability (-2.07+3.271 = 1.201) = 0.879\n",
    "\n",
    "power = probability (-1.96+3.271 = 1.311) = 0.91"
   ]
  },
  {
   "cell_type": "code",
   "execution_count": 43,
   "id": "3a6a9f29-b8a6-4212-bf32-e4bcc866528e",
   "metadata": {},
   "outputs": [
    {
     "data": {
      "text/plain": [
       "2.0738730679040147"
      ]
     },
     "execution_count": 43,
     "metadata": {},
     "output_type": "execute_result"
    }
   ],
   "source": [
    "stats.t.ppf(0.975,22)"
   ]
  },
  {
   "cell_type": "code",
   "execution_count": 44,
   "id": "3b24e1ef-1e37-4b51-a35d-e40a731f1df7",
   "metadata": {},
   "outputs": [
    {
     "data": {
      "text/plain": [
       "3.2711207887332883"
      ]
     },
     "execution_count": 44,
     "metadata": {},
     "output_type": "execute_result"
    }
   ],
   "source": [
    "1486.333/ (1113*np.sqrt(1/12+1/12))"
   ]
  },
  {
   "cell_type": "code",
   "execution_count": 45,
   "id": "568900f4-671f-4304-b381-adf3e2478d28",
   "metadata": {},
   "outputs": [
    {
     "data": {
      "text/plain": [
       "0.8787387368705362"
      ]
     },
     "execution_count": 45,
     "metadata": {},
     "output_type": "execute_result"
    }
   ],
   "source": [
    "stats.t.cdf(1.201,22)"
   ]
  },
  {
   "cell_type": "code",
   "execution_count": 46,
   "id": "a4e34fc4-0ac6-4cc5-88d6-71ce0b5c570e",
   "metadata": {},
   "outputs": [
    {
     "data": {
      "text/plain": [
       "0.9050711181947337"
      ]
     },
     "execution_count": 46,
     "metadata": {},
     "output_type": "execute_result"
    }
   ],
   "source": [
    "stats.norm.cdf(1.311)"
   ]
  },
  {
   "cell_type": "markdown",
   "id": "1265cb02-9fcf-44a2-ba53-d7e2c01f1b8a",
   "metadata": {},
   "source": [
    "Sample size = n = 2* standard deviation ^2 * (z at 1-alpha + z at 1-beta)^2 / (mean1-mean2)^2\n",
    "\n",
    "difference in means= 1000 \\\n",
    "standard deviation = sp= 1113, assume equal variance \\\n",
    "alpha =0.05 \\\n",
    "beta= 0.10, power = 0.9 \\\n",
    "z at 1-aplha/2 for 2-sided test = 1.96 \\\n",
    "z at 0.90 = 1.282\n",
    "\n",
    "n= 2* (1113)^2 * (1.96+1.282) ^2 / (1000)^2 = 2477538*10.511 / 1000000= 26.041 or 27 in each sample"
   ]
  },
  {
   "cell_type": "code",
   "execution_count": 47,
   "id": "bfcf59c2-95db-467d-a0e6-9c380fca2a1b",
   "metadata": {},
   "outputs": [
    {
     "data": {
      "text/plain": [
       "1.2815515655446004"
      ]
     },
     "execution_count": 47,
     "metadata": {},
     "output_type": "execute_result"
    }
   ],
   "source": [
    "stats.norm.ppf(.90)"
   ]
  },
  {
   "cell_type": "code",
   "execution_count": 48,
   "id": "83e04032-525d-445b-b45d-959f0df44aaa",
   "metadata": {},
   "outputs": [
    {
     "data": {
      "text/plain": [
       "26.032531051540605"
      ]
     },
     "execution_count": 48,
     "metadata": {},
     "output_type": "execute_result"
    }
   ],
   "source": [
    "smp.zt_ind_solve_power(effect_size=(1000/1113),alpha=0.05, power=0.9,ratio=1,alternative='two-sided')"
   ]
  },
  {
   "cell_type": "markdown",
   "id": "2a800517-2dfd-4c19-87d4-cff4efa54d80",
   "metadata": {},
   "source": [
    "# Problem 2 \n",
    "Part A:  two sample unpaired test\n",
    "\n",
    "Load the data and explore the data"
   ]
  },
  {
   "cell_type": "code",
   "execution_count": 66,
   "id": "60b58414-0043-47d4-99d0-29c90d8e57f3",
   "metadata": {},
   "outputs": [
    {
     "name": "stdout",
     "output_type": "stream",
     "text": [
      "    FT  ImageGuided\n",
      "0    3            1\n",
      "1    2            1\n",
      "2    3            1\n",
      "3    3            1\n",
      "4    3            1\n",
      "5    2            1\n",
      "6    3            1\n",
      "0    9            0\n",
      "1    6            0\n",
      "2    7            0\n",
      "3    3            0\n",
      "4    4            0\n",
      "5    4            0\n",
      "6    6            0\n",
      "7    4            0\n",
      "8    6            0\n",
      "9    1            0\n",
      "10   4            0\n",
      "11   3            0\n",
      "12   2            0\n",
      "13   5            0\n"
     ]
    }
   ],
   "source": [
    "A1=pd.Series([3,2,3,3,3,2,3])\n",
    "B1=pd.Series([9,6,7,3,4,4,6,4,6,1,4,3,2,5])\n",
    "frame={\"FT\":A1.append(B1),\"ImageGuided\":([1,1,1,1,1,1,1,0,0,0,0,0,0,0,0,0,0,0,0,0,0])}\n",
    "C1=pd.DataFrame(frame)\n",
    "print(C1)"
   ]
  },
  {
   "cell_type": "code",
   "execution_count": 67,
   "id": "b9dd0a4b-d181-4caf-9e4a-ae8552dadcd4",
   "metadata": {},
   "outputs": [
    {
     "data": {
      "text/plain": [
       "<AxesSubplot:>"
      ]
     },
     "execution_count": 67,
     "metadata": {},
     "output_type": "execute_result"
    },
    {
     "data": {
      "image/png": "[encoded data removed]",
      "text/plain": [
       "<Figure size 432x288 with 1 Axes>"
      ]
     },
     "metadata": {
      "needs_background": "light"
     },
     "output_type": "display_data"
    }
   ],
   "source": [
    "sns.boxplot(data=[A1,B1],showmeans=True)\n",
    "sns.swarmplot(data=[A1,B1])"
   ]
  },
  {
   "cell_type": "code",
   "execution_count": 68,
   "id": "42dc25bc-c5d5-49f0-ba7c-d22de48baca3",
   "metadata": {},
   "outputs": [
    {
     "data": {
      "text/plain": [
       "<AxesSubplot:xlabel='ImageGuided', ylabel='FT'>"
      ]
     },
     "execution_count": 68,
     "metadata": {},
     "output_type": "execute_result"
    },
    {
     "data": {
      "image/png": "[encoded data removed]",
      "text/plain": [
       "<Figure size 432x288 with 1 Axes>"
      ]
     },
     "metadata": {
      "needs_background": "light"
     },
     "output_type": "display_data"
    }
   ],
   "source": [
    "sns.boxplot(x=\"ImageGuided\",y=\"FT\",data=C1)"
   ]
  },
  {
   "cell_type": "code",
   "execution_count": 72,
   "id": "405961a9-f23f-465b-9a6d-c219fb357be2",
   "metadata": {},
   "outputs": [
    {
     "name": "stderr",
     "output_type": "stream",
     "text": [
      "C:\\Users\\nabil\\anaconda3\\lib\\site-packages\\statsmodels\\graphics\\gofplots.py:993: UserWarning: marker is redundantly defined by the 'marker' keyword argument and the fmt string \"bo\" (-> marker='o'). The keyword argument will take precedence.\n",
      "  ax.plot(x, y, fmt, **plot_style)\n",
      "C:\\Users\\nabil\\anaconda3\\lib\\site-packages\\statsmodels\\graphics\\gofplots.py:993: UserWarning: marker is redundantly defined by the 'marker' keyword argument and the fmt string \"bo\" (-> marker='o'). The keyword argument will take precedence.\n",
      "  ax.plot(x, y, fmt, **plot_style)\n"
     ]
    },
    {
     "data": {
      "image/png": "[encoded data removed]",
      "text/plain": [
       "<Figure size 720x288 with 2 Axes>"
      ]
     },
     "metadata": {
      "needs_background": "light"
     },
     "output_type": "display_data"
    }
   ],
   "source": [
    "import statsmodels.api as sm\n",
    "A1.sort_values()\n",
    "B1.sort_values()\n",
    "fig3,ax3=plt.subplots(nrows=1,ncols=2,figsize=(10,4))\n",
    "sm.qqplot(A1,line='45',loc=(np.mean(A1)),scale=(np.std(A1,ddof=1)),ax=ax3[0])\n",
    "sm.qqplot(B1,line='45',loc=(np.mean(B1)),scale=(np.std(B1,ddof=1)),ax=ax3[1])\n",
    "plt.show()"
   ]
  },
  {
   "cell_type": "markdown",
   "id": "70742a42-5c37-4598-8a2d-2fd00b01649f",
   "metadata": {},
   "source": [
    "We are going to assume that we know that the populations that the samples are from are known tho be normal.  It does not look like sample A is normal or that the standard deviations are equivalent, so we will run a Welch's t-test for unequal variances (by having equal_var=False in the SciPy ttest_ind test."
   ]
  },
  {
   "cell_type": "code",
   "execution_count": 73,
   "id": "fee739cb-1654-457a-ad09-4d17f588bc7a",
   "metadata": {},
   "outputs": [
    {
     "data": {
      "text/plain": [
       "ShapiroResult(statistic=0.6003988981246948, pvalue=0.0002751768915913999)"
      ]
     },
     "execution_count": 73,
     "metadata": {},
     "output_type": "execute_result"
    }
   ],
   "source": [
    "# sample A1 not normal\n",
    "stats.shapiro(A1)"
   ]
  },
  {
   "cell_type": "code",
   "execution_count": 74,
   "id": "c28c02d8-cee6-45c2-b809-6dc58c64d572",
   "metadata": {},
   "outputs": [
    {
     "data": {
      "text/plain": [
       "LeveneResult(statistic=5.079207920792079, pvalue=0.03621905322315552)"
      ]
     },
     "execution_count": 74,
     "metadata": {},
     "output_type": "execute_result"
    }
   ],
   "source": [
    "# sample variances not equal\n",
    "stats.levene(A1,B1,center='median')"
   ]
  },
  {
   "cell_type": "markdown",
   "id": "4fa6899e-efab-4242-988b-43392fd4ee7b",
   "metadata": {},
   "source": [
    "Problem 2 Part 3\n",
    "95% CI's for each sample"
   ]
  },
  {
   "cell_type": "code",
   "execution_count": 75,
   "id": "09198edc-f98d-43c0-8e56-1981d082050e",
   "metadata": {},
   "outputs": [
    {
     "name": "stdout",
     "output_type": "stream",
     "text": [
      "2.7142857142857144\n",
      "0.4879500364742666\n",
      "0.18442777839082938\n",
      "0.18442777839082938\n",
      "6\n"
     ]
    }
   ],
   "source": [
    "# For the sample A1 recovery times using image guided surgery\n",
    "print(np.mean(A1))\n",
    "print(np.std(A1,ddof=1))\n",
    "print(np.std(A1,ddof=1)/np.sqrt(len(A1)))\n",
    "print(stats.sem(A1))\n",
    "print(len(A1)-1)"
   ]
  },
  {
   "cell_type": "code",
   "execution_count": 76,
   "id": "61343113-f694-47d7-a58d-8d284785c2da",
   "metadata": {},
   "outputs": [
    {
     "data": {
      "text/plain": [
       "Ttest_1sampResult(statistic=14.717336715588184, pvalue=6.182550105795612e-06)"
      ]
     },
     "execution_count": 76,
     "metadata": {},
     "output_type": "execute_result"
    }
   ],
   "source": [
    "stats.ttest_1samp(A1,0)"
   ]
  },
  {
   "cell_type": "code",
   "execution_count": 77,
   "id": "5759bc18-4a69-4444-a95a-7f46247ad2a9",
   "metadata": {},
   "outputs": [
    {
     "name": "stdout",
     "output_type": "stream",
     "text": [
      "(2.2630071980948676, 3.165564230476561)\n"
     ]
    }
   ],
   "source": [
    "A1CI=stats.t.interval(alpha=0.95,df=(len(A1)-1), loc=np.mean(A1), scale=stats.sem(A1))\n",
    "print(A1CI)"
   ]
  },
  {
   "cell_type": "code",
   "execution_count": 78,
   "id": "1bf95f76-ada1-4180-a5db-f12fd0d9a15f",
   "metadata": {},
   "outputs": [
    {
     "data": {
      "text/plain": [
       "0.4512857142857145"
      ]
     },
     "execution_count": 78,
     "metadata": {},
     "output_type": "execute_result"
    }
   ],
   "source": [
    "np.mean(A1)-2.263"
   ]
  },
  {
   "cell_type": "code",
   "execution_count": 79,
   "id": "64c4d3fb-2d40-44c9-90c2-3650e80c94d1",
   "metadata": {},
   "outputs": [
    {
     "data": {
      "text/plain": [
       "0.45131428571428556"
      ]
     },
     "execution_count": 79,
     "metadata": {},
     "output_type": "execute_result"
    }
   ],
   "source": [
    "3.1656-np.mean(A1)"
   ]
  },
  {
   "cell_type": "code",
   "execution_count": 80,
   "id": "25680526-4b2b-4f37-af5a-070ef34098ac",
   "metadata": {},
   "outputs": [
    {
     "data": {
      "text/plain": [
       "(2.2630071980948676, 3.165564230476561)"
      ]
     },
     "execution_count": 80,
     "metadata": {},
     "output_type": "execute_result"
    }
   ],
   "source": [
    "# you can also use the statsmodel stats call\n",
    "sm.stats.DescrStatsW(A1).tconfint_mean()"
   ]
  },
  {
   "cell_type": "code",
   "execution_count": 81,
   "id": "e7e5ed9d-bbc5-4e7f-b3f7-9444e5835712",
   "metadata": {},
   "outputs": [
    {
     "data": {
      "text/plain": [
       "(3.357882747008226, 5.784974395848916)"
      ]
     },
     "execution_count": 81,
     "metadata": {},
     "output_type": "execute_result"
    }
   ],
   "source": [
    "# For the sample B1 recovery times using conventional surgery\n",
    "stats.t.interval(alpha=0.95,df=(len(B1)-1), loc=np.mean(B1), scale=stats.sem(B1))"
   ]
  },
  {
   "cell_type": "markdown",
   "id": "05cb6a80-f2da-4df7-8e9a-5e481977b9a6",
   "metadata": {},
   "source": [
    "Given the confidence intervals, we can compare them to one another.  It is of note that if the 2 CIs do overlap, then you could still have a significant t-test stating that the differnece in the means is significantly different (rare but possible), but if the CIs of the samples do not overlap then the difference in means will be significant."
   ]
  },
  {
   "cell_type": "code",
   "execution_count": 82,
   "id": "d1e7157c-00da-47ba-ad9c-f06f39ba4c68",
   "metadata": {},
   "outputs": [
    {
     "data": {
      "text/plain": [
       "<AxesSubplot:xlabel='ImageGuided', ylabel='FT'>"
      ]
     },
     "execution_count": 82,
     "metadata": {},
     "output_type": "execute_result"
    },
    {
     "data": {
      "image/png": "[encoded data removed]",
      "text/plain": [
       "<Figure size 432x288 with 1 Axes>"
      ]
     },
     "metadata": {
      "needs_background": "light"
     },
     "output_type": "display_data"
    }
   ],
   "source": [
    "sns.pointplot(x=\"ImageGuided\",y=\"FT\", data=C1,ci=95, join=False)"
   ]
  },
  {
   "cell_type": "code",
   "execution_count": 83,
   "id": "01b010d4-883e-4277-833a-89e7be11458f",
   "metadata": {},
   "outputs": [
    {
     "data": {
      "text/plain": [
       "Ttest_indResult(statistic=-3.14114094988841, pvalue=0.006485417016529633)"
      ]
     },
     "execution_count": 83,
     "metadata": {},
     "output_type": "execute_result"
    }
   ],
   "source": [
    "# run the Welch's t-test since sample variances are not equal\n",
    "stats.ttest_ind(A1,B1,equal_var=False)"
   ]
  },
  {
   "cell_type": "markdown",
   "id": "055542b6-41e7-4e20-9e76-2dd07cfab9f2",
   "metadata": {},
   "source": [
    "Problem 2 part 5"
   ]
  },
  {
   "cell_type": "code",
   "execution_count": 85,
   "id": "a6feef91-65b0-4b50-98da-f216c4cf70fe",
   "metadata": {},
   "outputs": [
    {
     "data": {
      "text/plain": [
       "RanksumsResult(statistic=-2.3127460005542715, pvalue=0.020736608272804612)"
      ]
     },
     "execution_count": 85,
     "metadata": {},
     "output_type": "execute_result"
    }
   ],
   "source": [
    "stats.ranksums(A1,B1)"
   ]
  },
  {
   "cell_type": "code",
   "execution_count": 87,
   "id": "a21a9693-6581-493f-85b9-835a91172fac",
   "metadata": {},
   "outputs": [
    {
     "data": {
      "text/plain": [
       "MannwhitneyuResult(statistic=18.0, pvalue=0.02000343997248022)"
      ]
     },
     "execution_count": 87,
     "metadata": {},
     "output_type": "execute_result"
    }
   ],
   "source": [
    "stats.mannwhitneyu(A1,B1,use_continuity=False,method='exact')"
   ]
  },
  {
   "cell_type": "code",
   "execution_count": 88,
   "id": "9a42e7c7-bd7b-45b0-b816-db6a11d03517",
   "metadata": {},
   "outputs": [
    {
     "data": {
      "text/plain": [
       "MannwhitneyuResult(statistic=18.0, pvalue=0.017768935079313722)"
      ]
     },
     "execution_count": 88,
     "metadata": {},
     "output_type": "execute_result"
    }
   ],
   "source": [
    "stats.mannwhitneyu(A1,B1,use_continuity=False,method='auto')"
   ]
  },
  {
   "cell_type": "code",
   "execution_count": 91,
   "id": "d1d38489-bd95-4dad-b455-78bab9e99f72",
   "metadata": {},
   "outputs": [
    {
     "name": "stdout",
     "output_type": "stream",
     "text": [
      "1    2\n",
      "5    2\n",
      "0    3\n",
      "2    3\n",
      "3    3\n",
      "4    3\n",
      "6    3\n",
      "dtype: int64\n"
     ]
    }
   ],
   "source": [
    "print(A1.sort_values())"
   ]
  },
  {
   "cell_type": "code",
   "execution_count": 92,
   "id": "86471636-2b2b-481c-9bd4-514e6e76d5d4",
   "metadata": {},
   "outputs": [
    {
     "name": "stdout",
     "output_type": "stream",
     "text": [
      "9     1\n",
      "12    2\n",
      "3     3\n",
      "11    3\n",
      "4     4\n",
      "5     4\n",
      "7     4\n",
      "10    4\n",
      "13    5\n",
      "1     6\n",
      "6     6\n",
      "8     6\n",
      "2     7\n",
      "0     9\n",
      "dtype: int64\n"
     ]
    }
   ],
   "source": [
    "print(B1.sort_values())"
   ]
  },
  {
   "cell_type": "code",
   "execution_count": 117,
   "id": "e1cb469d-70a0-4a12-856d-1459b698287a",
   "metadata": {},
   "outputs": [
    {
     "data": {
      "text/plain": [
       "38"
      ]
     },
     "execution_count": 117,
     "metadata": {},
     "output_type": "execute_result"
    }
   ],
   "source": [
    "3+3+8+8+8+8"
   ]
  },
  {
   "cell_type": "code",
   "execution_count": 108,
   "id": "63dffc47-f815-4c10-8fbe-fe379f84a43e",
   "metadata": {},
   "outputs": [
    {
     "data": {
      "text/plain": [
       "5.0"
      ]
     },
     "execution_count": 108,
     "metadata": {},
     "output_type": "execute_result"
    }
   ],
   "source": [
    "10/2"
   ]
  },
  {
   "cell_type": "code",
   "execution_count": 118,
   "id": "ad531096-e6a2-4b13-bd17-fe3048aa34e4",
   "metadata": {},
   "outputs": [
    {
     "data": {
      "text/plain": [
       "185.0"
      ]
     },
     "execution_count": 118,
     "metadata": {},
     "output_type": "execute_result"
    }
   ],
   "source": [
    "1+3+8+8+13.5+13.5+13.5+13.5+16+18+18+18+20+21"
   ]
  },
  {
   "cell_type": "code",
   "execution_count": 119,
   "id": "26aaf7ea-fcbb-4c18-beb0-d7707eefc367",
   "metadata": {},
   "outputs": [
    {
     "data": {
      "text/plain": [
       "88.0"
      ]
     },
     "execution_count": 119,
     "metadata": {},
     "output_type": "execute_result"
    }
   ],
   "source": [
    "U1=7*14+7*(8)/2-38\n",
    "U1"
   ]
  },
  {
   "cell_type": "code",
   "execution_count": 120,
   "id": "b68393da-b984-43d8-9cf5-bdb004c1a2a0",
   "metadata": {},
   "outputs": [
    {
     "data": {
      "text/plain": [
       "18.0"
      ]
     },
     "execution_count": 120,
     "metadata": {},
     "output_type": "execute_result"
    }
   ],
   "source": [
    "U2=7*14+14*(15)/2-185\n",
    "U2"
   ]
  },
  {
   "cell_type": "markdown",
   "id": "f5ccf9b7-7143-4de3-a2d6-f0371cc30c48",
   "metadata": {},
   "source": [
    "look up the U value for n=7 and n=14 in U table:  this U=22 for a 0.05 significance level\n",
    "Since our calculated U is less than this U value then we do reject the null hypotheiss and accept that the the populations are different.  "
   ]
  },
  {
   "cell_type": "markdown",
   "id": "e87c545b-9a58-42e3-9fbe-15bbb013ffd7",
   "metadata": {},
   "source": [
    "# Problem 3 Part A"
   ]
  },
  {
   "cell_type": "code",
   "execution_count": 162,
   "id": "ab7705b4-cd1d-4d7b-aa0d-8e8126d6ef59",
   "metadata": {},
   "outputs": [],
   "source": [
    "#read paired data\n",
    "A3=[7,3,3,4,8,3,2,9,5,4]\n",
    "B3=[6,3,5,3,8,2,4,9,4,5]"
   ]
  },
  {
   "cell_type": "code",
   "execution_count": 163,
   "id": "fb8578f8-f82e-468a-8a9d-c9aec1a40833",
   "metadata": {},
   "outputs": [
    {
     "data": {
      "text/plain": [
       "<AxesSubplot:>"
      ]
     },
     "execution_count": 163,
     "metadata": {},
     "output_type": "execute_result"
    },
    {
     "data": {
      "image/png": "[encoded data removed]",
      "text/plain": [
       "<Figure size 432x288 with 1 Axes>"
      ]
     },
     "metadata": {},
     "output_type": "display_data"
    }
   ],
   "source": [
    "sns.boxplot(data=[A3,B3],showmeans=True)"
   ]
  },
  {
   "cell_type": "code",
   "execution_count": 182,
   "id": "ea7051fe-0a94-4760-85aa-41a93f018c79",
   "metadata": {},
   "outputs": [
    {
     "data": {
      "text/plain": [
       "Ttest_relResult(statistic=-0.26413527189768715, pvalue=0.7976245209721027)"
      ]
     },
     "execution_count": 182,
     "metadata": {},
     "output_type": "execute_result"
    }
   ],
   "source": [
    "# t-test related\n",
    "stats.ttest_rel(A3,B3,alternative='two-sided')"
   ]
  },
  {
   "cell_type": "code",
   "execution_count": 183,
   "id": "be9b6fc6-9e22-4cd7-ad25-7d5d36181d19",
   "metadata": {},
   "outputs": [
    {
     "name": "stdout",
     "output_type": "stream",
     "text": [
      "[ 1  0 -2  1  0  1 -2  0  1 -1]\n"
     ]
    }
   ],
   "source": [
    "diffs=[]\n",
    "diffs=np.array(A3)-np.array(B3)\n",
    "print(diffs)"
   ]
  },
  {
   "cell_type": "code",
   "execution_count": 184,
   "id": "c31dad4f-c40c-49bc-ad02-aadaf45e0263",
   "metadata": {},
   "outputs": [
    {
     "data": {
      "text/plain": [
       "ShapiroResult(statistic=0.8236138224601746, pvalue=0.02802291512489319)"
      ]
     },
     "execution_count": 184,
     "metadata": {},
     "output_type": "execute_result"
    }
   ],
   "source": [
    "# note that the differences of the paired data are not normal, as per the Shapiro Wilks test, \n",
    "# so a non-parametric test is appropriate to run if you do not assume normality\n",
    "stats.shapiro(diffs)"
   ]
  },
  {
   "cell_type": "code",
   "execution_count": 185,
   "id": "e547eb39-b84d-4409-8466-db97190c339e",
   "metadata": {},
   "outputs": [
    {
     "name": "stderr",
     "output_type": "stream",
     "text": [
      "C:\\Users\\nabil\\anaconda3\\lib\\site-packages\\scipy\\stats\\morestats.py:3141: UserWarning: Exact p-value calculation does not work if there are ties. Switching to normal approximation.\n",
      "  warnings.warn(\"Exact p-value calculation does not work if there are \"\n",
      "C:\\Users\\nabil\\anaconda3\\lib\\site-packages\\scipy\\stats\\morestats.py:3155: UserWarning: Sample size too small for normal approximation.\n",
      "  warnings.warn(\"Sample size too small for normal approximation.\")\n"
     ]
    },
    {
     "data": {
      "text/plain": [
       "WilcoxonResult(statistic=12.0, pvalue=0.7252134073972734)"
      ]
     },
     "execution_count": 185,
     "metadata": {},
     "output_type": "execute_result"
    }
   ],
   "source": [
    "stats.wilcoxon(A3,B3,alternative='two-sided')"
   ]
  },
  {
   "cell_type": "code",
   "execution_count": 186,
   "id": "6d0a9308-03d7-4db9-ad00-851502eefd3a",
   "metadata": {},
   "outputs": [
    {
     "name": "stderr",
     "output_type": "stream",
     "text": [
      "C:\\Users\\nabil\\anaconda3\\lib\\site-packages\\statsmodels\\graphics\\gofplots.py:993: UserWarning: marker is redundantly defined by the 'marker' keyword argument and the fmt string \"bo\" (-> marker='o'). The keyword argument will take precedence.\n",
      "  ax.plot(x, y, fmt, **plot_style)\n"
     ]
    },
    {
     "data": {
      "image/png": "[encoded data removed]",
      "text/plain": [
       "<Figure size 432x288 with 1 Axes>"
      ]
     },
     "execution_count": 186,
     "metadata": {},
     "output_type": "execute_result"
    },
    {
     "data": {
      "image/png": "[encoded data removed]",
      "text/plain": [
       "<Figure size 432x288 with 1 Axes>"
      ]
     },
     "metadata": {},
     "output_type": "display_data"
    }
   ],
   "source": [
    "sm.qqplot(np.sort(diffs),line='45',loc=np.mean(diffs),scale=np.std(diffs,ddof=1))"
   ]
  },
  {
   "cell_type": "code",
   "execution_count": 187,
   "id": "6a1e4c62-3b18-443a-80de-d2b326ad46ab",
   "metadata": {},
   "outputs": [
    {
     "data": {
      "image/png": "[encoded data removed]",
      "text/plain": [
       "<Figure size 360x288 with 1 Axes>"
      ]
     },
     "metadata": {},
     "output_type": "display_data"
    }
   ],
   "source": [
    "import pingouin as pg\n",
    "sns.set_style('whitegrid')\n",
    "ax=pg.qqplot(diffs,dist='norm')"
   ]
  },
  {
   "cell_type": "code",
   "execution_count": 188,
   "id": "77da7ec8-c4c2-45bb-834e-53f461c14a5c",
   "metadata": {},
   "outputs": [
    {
     "name": "stdout",
     "output_type": "stream",
     "text": [
      "-0.1\n"
     ]
    }
   ],
   "source": [
    "meandiffs=np.mean(diffs)\n",
    "print(meandiffs)"
   ]
  },
  {
   "cell_type": "code",
   "execution_count": 189,
   "id": "d8f5f164-8c31-44b8-b06e-f2bd35b529a4",
   "metadata": {},
   "outputs": [
    {
     "name": "stdout",
     "output_type": "stream",
     "text": [
      "1.1972189997378648\n"
     ]
    }
   ],
   "source": [
    "sdmeandiffs=np.std(diffs,ddof=1)\n",
    "print(sdmeandiffs)"
   ]
  },
  {
   "cell_type": "code",
   "execution_count": 190,
   "id": "add34c1d-7fe6-4d02-be44-5a5e27351d8e",
   "metadata": {},
   "outputs": [
    {
     "name": "stdout",
     "output_type": "stream",
     "text": [
      "0.37859388972001823\n"
     ]
    }
   ],
   "source": [
    "semeans=sdmeandiffs/(np.sqrt(10))\n",
    "print(semeans)"
   ]
  },
  {
   "cell_type": "code",
   "execution_count": 191,
   "id": "99738d30-3695-4e53-8ee1-36d2c1cdd0ad",
   "metadata": {},
   "outputs": [
    {
     "name": "stdout",
     "output_type": "stream",
     "text": [
      "-0.26413527189768715\n"
     ]
    }
   ],
   "source": [
    "#t_paired=mean of differences / se_differences = mean of differences / sd_mean of differences/ sqrt(sample size of paired observations)\n",
    "t_stat_diff=np.mean(diffs)/(sdmeandiffs/np.sqrt(10))\n",
    "print(t_stat_diff)"
   ]
  },
  {
   "cell_type": "code",
   "execution_count": 192,
   "id": "52dc06ab-f8d4-4e60-a880-c4b36b77587b",
   "metadata": {},
   "outputs": [
    {
     "data": {
      "text/plain": [
       "(-0.9564388794001123, 0.7564388794001123)"
      ]
     },
     "execution_count": 192,
     "metadata": {},
     "output_type": "execute_result"
    }
   ],
   "source": [
    "stats.t.interval(alpha=.95,df=9, loc=-.1,scale=semeans)"
   ]
  },
  {
   "cell_type": "code",
   "execution_count": 193,
   "id": "0d83bdf2-bdbb-4e94-9d91-b1a13ad6e7b4",
   "metadata": {},
   "outputs": [
    {
     "name": "stdout",
     "output_type": "stream",
     "text": [
      "2.2621571627409915\n"
     ]
    }
   ],
   "source": [
    "Critical_t=stats.t.ppf(0.975,9)\n",
    "print(Critical_t)"
   ]
  },
  {
   "cell_type": "code",
   "execution_count": 194,
   "id": "b52a5ce7-96fe-4ab4-87d6-ee3c21d6eebc",
   "metadata": {},
   "outputs": [
    {
     "data": {
      "text/plain": [
       "-0.9564388794001123"
      ]
     },
     "execution_count": 194,
     "metadata": {},
     "output_type": "execute_result"
    }
   ],
   "source": [
    "-.1 - Critical_t*semeans"
   ]
  },
  {
   "cell_type": "code",
   "execution_count": 198,
   "id": "acab7c01-3b04-4c79-979a-33b6736045e7",
   "metadata": {},
   "outputs": [
    {
     "data": {
      "text/plain": [
       "0.7564388794001123"
      ]
     },
     "execution_count": 198,
     "metadata": {},
     "output_type": "execute_result"
    }
   ],
   "source": [
    "-.1 + Critical_t*semeans"
   ]
  },
  {
   "cell_type": "code",
   "execution_count": 210,
   "id": "68309b22-c1c7-42ea-bb7e-9f4242d064ae",
   "metadata": {},
   "outputs": [
    {
     "data": {
      "text/plain": [
       "0.39886276366589174"
      ]
     },
     "execution_count": 210,
     "metadata": {},
     "output_type": "execute_result"
    }
   ],
   "source": [
    "stats.t.cdf(-0.264,df=9)"
   ]
  },
  {
   "cell_type": "code",
   "execution_count": 211,
   "id": "32340845-aa10-4175-8e33-10f0803a5b5a",
   "metadata": {},
   "outputs": [
    {
     "data": {
      "text/plain": [
       "0.7977255273317835"
      ]
     },
     "execution_count": 211,
     "metadata": {},
     "output_type": "execute_result"
    }
   ],
   "source": [
    "2*(stats.t.cdf(-0.264,df=9))"
   ]
  },
  {
   "cell_type": "code",
   "execution_count": null,
   "id": "36aed807-03a7-4dcf-a5f8-623932aeacb0",
   "metadata": {},
   "outputs": [],
   "source": []
  }
 ],
 "metadata": {
  "kernelspec": {
   "display_name": "Python 3 (ipykernel)",
   "language": "python",
   "name": "python3"
  },
  "language_info": {
   "codemirror_mode": {
    "name": "ipython",
    "version": 3
   },
   "file_extension": ".py",
   "mimetype": "text/x-python",
   "name": "python",
   "nbconvert_exporter": "python",
   "pygments_lexer": "ipython3",
   "version": "3.8.8"
  }
 },
 "nbformat": 4,
 "nbformat_minor": 5
}
