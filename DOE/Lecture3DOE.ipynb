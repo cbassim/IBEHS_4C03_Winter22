{
 "cells": [
  {
   "cell_type": "code",
   "execution_count": 787,
   "id": "5fd24d9b-fcc1-417c-8466-7e560401e936",
   "metadata": {},
   "outputs": [
    {
     "name": "stdin",
     "output_type": "stream",
     "text": [
      "Once deleted, variables cannot be recovered. Proceed (y/[n])?  y\n"
     ]
    }
   ],
   "source": [
    "%reset"
   ]
  },
  {
   "cell_type": "code",
   "execution_count": 790,
   "id": "8f1448b2-696c-4ef6-917c-04edfde852de",
   "metadata": {},
   "outputs": [],
   "source": [
    "import numpy as np\n",
    "import pandas as pd\n",
    "from matplotlib import pyplot as plt\n",
    "import seaborn as sns"
   ]
  },
  {
   "cell_type": "markdown",
   "id": "ecea4575-d5e1-4a70-b74b-1a17d23413dd",
   "metadata": {},
   "source": [
    "# Four Factors at 2 Levels"
   ]
  },
  {
   "cell_type": "code",
   "execution_count": 794,
   "id": "de792b56-7b93-41f4-b8d3-e3b094cd6bae",
   "metadata": {},
   "outputs": [],
   "source": [
    "A=pd.Series([-1,1,-1,1,-1,+1,-1,+1,-1,1,-1,1,-1,+1,-1,+1])\n",
    "B=pd.Series([-1,-1,1,1,-1,-1,1,1,-1,-1,1,1,-1,-1,1,1])\n",
    "C=pd.Series([-1,-1,-1,-1,1,1,1,1,-1,-1,-1,-1,1,1,1,1])\n",
    "D=pd.Series([-1,-1,-1,-1,-1,-1,-1,-1,1,1,1,1,1,1,1,1])\n",
    "y=pd.Series([71,61,90,82,68,61,87,80,61,50,89,83,59,51,85,78])"
   ]
  },
  {
   "cell_type": "code",
   "execution_count": 795,
   "id": "b4e24269-a7ac-4a1c-a080-f23c4410cc61",
   "metadata": {},
   "outputs": [
    {
     "name": "stdout",
     "output_type": "stream",
     "text": [
      "    0  1  2  3   4\n",
      "0  -1 -1 -1 -1  71\n",
      "1   1 -1 -1 -1  61\n",
      "2  -1  1 -1 -1  90\n",
      "3   1  1 -1 -1  82\n",
      "4  -1 -1  1 -1  68\n",
      "5   1 -1  1 -1  61\n",
      "6  -1  1  1 -1  87\n",
      "7   1  1  1 -1  80\n",
      "8  -1 -1 -1  1  61\n",
      "9   1 -1 -1  1  50\n",
      "10 -1  1 -1  1  89\n",
      "11  1  1 -1  1  83\n",
      "12 -1 -1  1  1  59\n",
      "13  1 -1  1  1  51\n",
      "14 -1  1  1  1  85\n",
      "15  1  1  1  1  78\n"
     ]
    }
   ],
   "source": [
    "DF_Fit=pd.concat([A,B,C,D,y],axis='columns')\n",
    "print(DF_Fit)"
   ]
  },
  {
   "cell_type": "code",
   "execution_count": 796,
   "id": "78778368-1f1d-412d-892d-82160d003fa5",
   "metadata": {},
   "outputs": [
    {
     "name": "stdout",
     "output_type": "stream",
     "text": [
      "                 Results: Ordinary least squares\n",
      "==================================================================\n",
      "Model:              OLS              Adj. R-squared:     nan      \n",
      "Dependent Variable: y                AIC:                -909.5732\n",
      "Date:               2022-03-31 21:37 BIC:                -897.2118\n",
      "No. Observations:   16               Log-Likelihood:     470.79   \n",
      "Df Model:           15               F-statistic:        nan      \n",
      "Df Residuals:       0                Prob (F-statistic): nan      \n",
      "R-squared:          1.000            Scale:              inf      \n",
      "--------------------------------------------------------------------\n",
      "               Coef.    Std.Err.      t      P>|t|   [0.025   0.975]\n",
      "--------------------------------------------------------------------\n",
      "Intercept     72.2500        inf    0.0000     nan      nan      nan\n",
      "A             -4.0000        inf   -0.0000     nan      nan      nan\n",
      "B             12.0000        inf    0.0000     nan      nan      nan\n",
      "A:B            0.5000        inf    0.0000     nan      nan      nan\n",
      "C             -1.1250        inf   -0.0000     nan      nan      nan\n",
      "A:C            0.3750        inf    0.0000     nan      nan      nan\n",
      "B:C           -0.6250        inf   -0.0000     nan      nan      nan\n",
      "A:B:C         -0.3750        inf   -0.0000     nan      nan      nan\n",
      "D             -2.7500        inf   -0.0000     nan      nan      nan\n",
      "A:D            0.0000        inf    0.0000     nan      nan      nan\n",
      "B:D            2.2500        inf    0.0000     nan      nan      nan\n",
      "A:B:D          0.2500        inf    0.0000     nan      nan      nan\n",
      "C:D           -0.1250        inf   -0.0000     nan      nan      nan\n",
      "A:C:D         -0.1250        inf   -0.0000     nan      nan      nan\n",
      "B:C:D         -0.3750        inf   -0.0000     nan      nan      nan\n",
      "A:B:C:D       -0.1250        inf   -0.0000     nan      nan      nan\n",
      "------------------------------------------------------------------\n",
      "Omnibus:               28.489       Durbin-Watson:          0.654 \n",
      "Prob(Omnibus):         0.000        Jarque-Bera (JB):       44.063\n",
      "Skew:                  -2.502       Prob(JB):               0.000 \n",
      "Kurtosis:              9.408        Condition No.:          1     \n",
      "==================================================================\n",
      "\n"
     ]
    },
    {
     "name": "stderr",
     "output_type": "stream",
     "text": [
      "C:\\Users\\nabil\\anaconda3\\lib\\site-packages\\scipy\\stats\\stats.py:1541: UserWarning:\n",
      "\n",
      "kurtosistest only valid for n>=20 ... continuing anyway, n=16\n",
      "\n",
      "C:\\Users\\nabil\\anaconda3\\lib\\site-packages\\statsmodels\\regression\\linear_model.py:1650: RuntimeWarning:\n",
      "\n",
      "divide by zero encountered in double_scalars\n",
      "\n",
      "C:\\Users\\nabil\\anaconda3\\lib\\site-packages\\statsmodels\\base\\model.py:1452: RuntimeWarning:\n",
      "\n",
      "invalid value encountered in multiply\n",
      "\n",
      "C:\\Users\\nabil\\anaconda3\\lib\\site-packages\\statsmodels\\regression\\linear_model.py:1728: RuntimeWarning:\n",
      "\n",
      "divide by zero encountered in true_divide\n",
      "\n",
      "C:\\Users\\nabil\\anaconda3\\lib\\site-packages\\statsmodels\\regression\\linear_model.py:1728: RuntimeWarning:\n",
      "\n",
      "invalid value encountered in double_scalars\n",
      "\n"
     ]
    }
   ],
   "source": [
    "from statsmodels.formula.api import ols\n",
    "import statsmodels.api as sm\n",
    "\n",
    "model_Fit=ols('y~A*B*C*D',data=DF_Fit)\n",
    "results_Fit=model_Fit.fit()\n",
    "print(results_Fit.summary2())"
   ]
  },
  {
   "cell_type": "code",
   "execution_count": 797,
   "id": "eca09700-fae8-4789-95ff-58d04d4efa05",
   "metadata": {},
   "outputs": [
    {
     "name": "stdout",
     "output_type": "stream",
     "text": [
      "                 Results: Ordinary least squares\n",
      "=================================================================\n",
      "Model:              OLS              Adj. R-squared:     0.981   \n",
      "Dependent Variable: y                AIC:                69.6616 \n",
      "Date:               2022-03-31 21:37 BIC:                73.5245 \n",
      "No. Observations:   16               Log-Likelihood:     -29.831 \n",
      "Df Model:           4                F-statistic:        194.8   \n",
      "Df Residuals:       11               Prob (F-statistic): 3.97e-10\n",
      "R-squared:          0.986            Scale:              3.5455  \n",
      "------------------------------------------------------------------\n",
      "              Coef.   Std.Err.     t      P>|t|    [0.025   0.975]\n",
      "------------------------------------------------------------------\n",
      "Intercept    72.2500    0.4707  153.4836  0.0000  71.2139  73.2861\n",
      "A            -4.0000    0.4707   -8.4974  0.0000  -5.0361  -2.9639\n",
      "B            12.0000    0.4707   25.4921  0.0000  10.9639  13.0361\n",
      "D            -2.7500    0.4707   -5.8419  0.0001  -3.7861  -1.7139\n",
      "B:D           2.2500    0.4707    4.7798  0.0006   1.2139   3.2861\n",
      "-----------------------------------------------------------------\n",
      "Omnibus:              0.357        Durbin-Watson:           1.583\n",
      "Prob(Omnibus):        0.837        Jarque-Bera (JB):        0.487\n",
      "Skew:                 0.246        Prob(JB):                0.784\n",
      "Kurtosis:             2.302        Condition No.:           1    \n",
      "=================================================================\n",
      "\n"
     ]
    },
    {
     "name": "stderr",
     "output_type": "stream",
     "text": [
      "C:\\Users\\nabil\\anaconda3\\lib\\site-packages\\scipy\\stats\\stats.py:1541: UserWarning:\n",
      "\n",
      "kurtosistest only valid for n>=20 ... continuing anyway, n=16\n",
      "\n"
     ]
    }
   ],
   "source": [
    "model_Refit=ols('y~A+B+D+B*D',data=DF_Fit)\n",
    "results_Refit=model_Refit.fit()\n",
    "print(results_Refit.summary2())"
   ]
  },
  {
   "cell_type": "code",
   "execution_count": 798,
   "id": "51616e77-15b2-4e2f-a3e1-7b265b37aab7",
   "metadata": {},
   "outputs": [
    {
     "name": "stdout",
     "output_type": "stream",
     "text": [
      "            df  sum_sq      mean_sq           F        PR(>F)\n",
      "A          1.0   256.0   256.000000   72.205128  3.664738e-06\n",
      "B          1.0  2304.0  2304.000000  649.846154  3.904591e-11\n",
      "D          1.0   121.0   121.000000   34.128205  1.122011e-04\n",
      "B:D        1.0    81.0    81.000000   22.846154  5.716301e-04\n",
      "Residual  11.0    39.0     3.545455         NaN           NaN\n"
     ]
    }
   ],
   "source": [
    "from statsmodels.stats.anova import anova_lm\n",
    "anova_results7 = anova_lm(results_Refit)\n",
    "print(anova_results7)"
   ]
  },
  {
   "cell_type": "markdown",
   "id": "e11f7ddd-f008-4705-b686-5dcaa00e8a91",
   "metadata": {},
   "source": [
    "# Standard Error and Replicates"
   ]
  },
  {
   "cell_type": "code",
   "execution_count": null,
   "id": "102add60-170f-431f-aecf-ded5eb556e48",
   "metadata": {},
   "outputs": [],
   "source": [
    "A=pd.Series([-1,1,-1,1,-1,+1,-1,1,-1,1,-1,1],name=\"Catalyst\")\n",
    "B=pd.Series([-1,-1,1,1,-1,-1,1,1,-1,-1,1,1], name='Reactant')\n",
    "OC=pd.Series([28,36,18,31,25,32,19,30,27,32,23,29],name=\"Etch\")"
   ]
  },
  {
   "cell_type": "code",
   "execution_count": null,
   "id": "788e577c-8de6-48d0-97da-fbddfe3ce809",
   "metadata": {},
   "outputs": [],
   "source": [
    "A=pd.Series([-1,1,-1,1,-1,+1,-1,1,-1,1,-1,1],name=\"Catalyst\")\n",
    "B=pd.Series([-1,-1,1,1,-1,-1,1,1,-1,-1,1,1], name='Reactant')\n",
    "OC=pd.Series([28,36,18,31,25,32,19,30,27,32,23,29],name=\"Etch\")"
   ]
  },
  {
   "cell_type": "code",
   "execution_count": null,
   "id": "a638d481-735b-4e75-80ef-7551e2a9543d",
   "metadata": {},
   "outputs": [],
   "source": [
    "model6=ols('OC~A*B',data=DFC)\n",
    "results6=model6.fit()\n",
    "print(results6.summary2())"
   ]
  },
  {
   "cell_type": "code",
   "execution_count": null,
   "id": "29e08b5b-f51d-4455-9af5-062567ead3ef",
   "metadata": {},
   "outputs": [],
   "source": [
    "anova_results6 = anova_lm(results6)\n",
    "print(anova_results6)"
   ]
  },
  {
   "cell_type": "code",
   "execution_count": null,
   "id": "d1d35044-1eda-47ec-bee4-28dc9c5d9d19",
   "metadata": {},
   "outputs": [],
   "source": []
  },
  {
   "cell_type": "code",
   "execution_count": null,
   "id": "956eebdc-01ee-4b9b-bc93-1aef427fbf15",
   "metadata": {},
   "outputs": [],
   "source": []
  },
  {
   "cell_type": "markdown",
   "id": "bd41b793-0e69-48ed-829d-db1128ca01b4",
   "metadata": {},
   "source": [
    "# Randomized Block Design"
   ]
  },
  {
   "cell_type": "code",
   "execution_count": 775,
   "id": "e2afc2c7-648a-4f16-a598-782af52e47bd",
   "metadata": {},
   "outputs": [],
   "source": [
    "A=pd.Series([-1,1,-1,1,-1,+1,-1,+1,-1,1,-1,1,-1,1,-1,1],name=\"Temp\")\n",
    "B=pd.Series([-1,-1,1,1,-1,-1,1,1,-1,-1,1,1,-1,-1,1,1], name='Pressure')\n",
    "C=pd.Series([-1,-1,-1,-1,1,1,1,1,-1,-1,-1,-1,1,1,1,1],name='Conc')\n",
    "D=pd.Series([-1,-1,-1,-1,-1,-1,-1,-1,1,1,1,1,1,1,1,1],name=\"Stirring\")\n",
    "E=pd.Series([1,-1,-1,1,-1,1,1,-1,-1,1,1,-1,1,-1,-1,1],name='Block')\n",
    "OC=pd.Series([25,71,48,45,68,40,60,65,43,80,25,104,55,86,70,76],name=\"Filtration\")"
   ]
  },
  {
   "cell_type": "code",
   "execution_count": 776,
   "id": "5581e967-ec4d-4342-bdd5-5f3c3b1b8c0f",
   "metadata": {},
   "outputs": [
    {
     "name": "stdout",
     "output_type": "stream",
     "text": [
      "    Temp  Pressure  Conc  Stirring  Block  Filtration\n",
      "0     -1        -1    -1        -1      1          25\n",
      "1      1        -1    -1        -1     -1          71\n",
      "2     -1         1    -1        -1     -1          48\n",
      "3      1         1    -1        -1      1          45\n",
      "4     -1        -1     1        -1     -1          68\n",
      "5      1        -1     1        -1      1          40\n",
      "6     -1         1     1        -1      1          60\n",
      "7      1         1     1        -1     -1          65\n",
      "8     -1        -1    -1         1     -1          43\n",
      "9      1        -1    -1         1      1          80\n",
      "10    -1         1    -1         1      1          25\n",
      "11     1         1    -1         1     -1         104\n",
      "12    -1        -1     1         1      1          55\n",
      "13     1        -1     1         1     -1          86\n",
      "14    -1         1     1         1     -1          70\n",
      "15     1         1     1         1      1          76\n"
     ]
    }
   ],
   "source": [
    "DF=pd.concat([A,B,C,D,E,OC],axis='columns')\n",
    "print(DF)"
   ]
  },
  {
   "cell_type": "code",
   "execution_count": 766,
   "id": "a9a95bde-fe8d-4ae2-a73b-3d69b7e79478",
   "metadata": {},
   "outputs": [
    {
     "name": "stdout",
     "output_type": "stream",
     "text": [
      "                  Results: Ordinary least squares\n",
      "===================================================================\n",
      "Model:               OLS              Adj. R-squared:     nan      \n",
      "Dependent Variable:  OC               AIC:                -915.5174\n",
      "Date:                2022-03-31 19:57 BIC:                -903.1560\n",
      "No. Observations:    16               Log-Likelihood:     473.76   \n",
      "Df Model:            15               F-statistic:        nan      \n",
      "Df Residuals:        0                Prob (F-statistic): nan      \n",
      "R-squared:           1.000            Scale:              inf      \n",
      "-------------------------------------------------------------------\n",
      "                        Coef.  Std.Err.    t    P>|t| [0.025 0.975]\n",
      "-------------------------------------------------------------------\n",
      "Intercept              60.0625      inf  0.0000   nan    nan    nan\n",
      "Temp                   10.8125      inf  0.0000   nan    nan    nan\n",
      "Pressure                1.5625      inf  0.0000   nan    nan    nan\n",
      "Conc                    4.9375      inf  0.0000   nan    nan    nan\n",
      "Stirring                7.3125      inf  0.0000   nan    nan    nan\n",
      "Block                  -9.3125      inf -0.0000   nan    nan    nan\n",
      "Temp:Pressure           0.0625      inf  0.0000   nan    nan    nan\n",
      "Temp:Conc              -9.0625      inf -0.0000   nan    nan    nan\n",
      "Temp:Stirring           8.3125      inf  0.0000   nan    nan    nan\n",
      "Pressure:Conc           1.1875      inf  0.0000   nan    nan    nan\n",
      "Pressure:Stirring      -0.1875      inf -0.0000   nan    nan    nan\n",
      "Conc:Stirring          -0.5625      inf -0.0000   nan    nan    nan\n",
      "Temp:Pressure:Conc      0.9375      inf  0.0000   nan    nan    nan\n",
      "Pressure:Conc:Stirring -1.3125      inf -0.0000   nan    nan    nan\n",
      "Temp:Conc:Stirring     -0.8125      inf -0.0000   nan    nan    nan\n",
      "Temp:Pressure:Stirring  2.0625      inf  0.0000   nan    nan    nan\n",
      "-------------------------------------------------------------------\n",
      "Omnibus:               2.839         Durbin-Watson:           0.403\n",
      "Prob(Omnibus):         0.242         Jarque-Bera (JB):        1.625\n",
      "Skew:                  -0.781        Prob(JB):                0.444\n",
      "Kurtosis:              2.990         Condition No.:           1    \n",
      "===================================================================\n",
      "\n"
     ]
    },
    {
     "name": "stderr",
     "output_type": "stream",
     "text": [
      "C:\\Users\\nabil\\anaconda3\\lib\\site-packages\\scipy\\stats\\stats.py:1541: UserWarning:\n",
      "\n",
      "kurtosistest only valid for n>=20 ... continuing anyway, n=16\n",
      "\n",
      "C:\\Users\\nabil\\anaconda3\\lib\\site-packages\\statsmodels\\regression\\linear_model.py:1650: RuntimeWarning:\n",
      "\n",
      "divide by zero encountered in double_scalars\n",
      "\n",
      "C:\\Users\\nabil\\anaconda3\\lib\\site-packages\\statsmodels\\base\\model.py:1452: RuntimeWarning:\n",
      "\n",
      "invalid value encountered in multiply\n",
      "\n",
      "C:\\Users\\nabil\\anaconda3\\lib\\site-packages\\statsmodels\\regression\\linear_model.py:1728: RuntimeWarning:\n",
      "\n",
      "divide by zero encountered in true_divide\n",
      "\n",
      "C:\\Users\\nabil\\anaconda3\\lib\\site-packages\\statsmodels\\regression\\linear_model.py:1728: RuntimeWarning:\n",
      "\n",
      "invalid value encountered in double_scalars\n",
      "\n"
     ]
    }
   ],
   "source": [
    "from statsmodels.formula.api import ols\n",
    "import statsmodels.api as sm\n",
    "\n",
    "model1=ols('OC~Temp+Pressure+Conc+Stirring+Block+Temp*Pressure+Temp*Conc+Temp*Stirring+Pressure*Conc+Pressure*Stirring+Conc*Stirring+Temp*Pressure*Conc+Pressure*Conc*Stirring+Temp*Conc*Stirring+Temp*Pressure*Stirring',data=DF)\n",
    "results1=model1.fit()\n",
    "print(results1.summary2())"
   ]
  },
  {
   "cell_type": "code",
   "execution_count": 767,
   "id": "8b4f3926-4fb6-42aa-91a5-c26a3d6452a7",
   "metadata": {},
   "outputs": [
    {
     "name": "stdout",
     "output_type": "stream",
     "text": [
      "                         df        sum_sq    mean_sq    F  PR(>F)\n",
      "Temp                    1.0  1.870562e+03  1870.5625  0.0     NaN\n",
      "Pressure                1.0  3.906250e+01    39.0625  0.0     NaN\n",
      "Conc                    1.0  3.900625e+02   390.0625  0.0     NaN\n",
      "Stirring                1.0  8.555625e+02   855.5625  0.0     NaN\n",
      "Block                   1.0  1.387562e+03  1387.5625  0.0     NaN\n",
      "Temp:Pressure           1.0  6.250000e-02     0.0625  0.0     NaN\n",
      "Temp:Conc               1.0  1.314062e+03  1314.0625  0.0     NaN\n",
      "Temp:Stirring           1.0  1.105563e+03  1105.5625  0.0     NaN\n",
      "Pressure:Conc           1.0  2.256250e+01    22.5625  0.0     NaN\n",
      "Pressure:Stirring       1.0  5.625000e-01     0.5625  0.0     NaN\n",
      "Conc:Stirring           1.0  5.062500e+00     5.0625  0.0     NaN\n",
      "Temp:Pressure:Conc      1.0  1.406250e+01    14.0625  0.0     NaN\n",
      "Pressure:Conc:Stirring  1.0  2.756250e+01    27.5625  0.0     NaN\n",
      "Temp:Conc:Stirring      1.0  1.056250e+01    10.5625  0.0     NaN\n",
      "Temp:Pressure:Stirring  1.0  6.806250e+01    68.0625  0.0     NaN\n",
      "Residual                0.0  1.789768e-26        inf  NaN     NaN\n"
     ]
    },
    {
     "name": "stderr",
     "output_type": "stream",
     "text": [
      "C:\\Users\\nabil\\anaconda3\\lib\\site-packages\\statsmodels\\stats\\anova.py:138: RuntimeWarning:\n",
      "\n",
      "divide by zero encountered in double_scalars\n",
      "\n"
     ]
    }
   ],
   "source": [
    "from statsmodels.stats.anova import anova_lm\n",
    "anova_results1 = anova_lm(results1)\n",
    "print(anova_results1)"
   ]
  },
  {
   "cell_type": "code",
   "execution_count": 778,
   "id": "ff3816a4-0559-4ea5-801f-7249f4fc2008",
   "metadata": {},
   "outputs": [
    {
     "name": "stdout",
     "output_type": "stream",
     "text": [
      "                    Results: Ordinary least squares\n",
      "========================================================================\n",
      "Model:                OLS                Adj. R-squared:       nan      \n",
      "Dependent Variable:   OC                 AIC:                  -910.7685\n",
      "Date:                 2022-03-31 20:26   BIC:                  -898.4071\n",
      "No. Observations:     16                 Log-Likelihood:       471.38   \n",
      "Df Model:             15                 F-statistic:          nan      \n",
      "Df Residuals:         0                  Prob (F-statistic):   nan      \n",
      "R-squared:            1.000              Scale:                inf      \n",
      "------------------------------------------------------------------------\n",
      "                             Coef.  Std.Err.    t    P>|t| [0.025 0.975]\n",
      "------------------------------------------------------------------------\n",
      "Intercept                   60.0625      inf  0.0000   nan    nan    nan\n",
      "Temp                        10.8125      inf  0.0000   nan    nan    nan\n",
      "Pressure                     1.5625      inf  0.0000   nan    nan    nan\n",
      "Temp:Pressure                0.0625      inf  0.0000   nan    nan    nan\n",
      "Conc                         4.9375      inf  0.0000   nan    nan    nan\n",
      "Temp:Conc                   -9.0625      inf -0.0000   nan    nan    nan\n",
      "Pressure:Conc                1.1875      inf  0.0000   nan    nan    nan\n",
      "Temp:Pressure:Conc           0.9375      inf  0.0000   nan    nan    nan\n",
      "Stirring                     7.3125      inf  0.0000   nan    nan    nan\n",
      "Temp:Stirring                8.3125      inf  0.0000   nan    nan    nan\n",
      "Pressure:Stirring           -0.1875      inf -0.0000   nan    nan    nan\n",
      "Temp:Pressure:Stirring       2.0625      inf  0.0000   nan    nan    nan\n",
      "Conc:Stirring               -0.5625      inf -0.0000   nan    nan    nan\n",
      "Temp:Conc:Stirring          -0.8125      inf -0.0000   nan    nan    nan\n",
      "Pressure:Conc:Stirring      -1.3125      inf -0.0000   nan    nan    nan\n",
      "Temp:Pressure:Conc:Stirring -9.3125      inf -0.0000   nan    nan    nan\n",
      "------------------------------------------------------------------------\n",
      "Omnibus:                 13.990         Durbin-Watson:            0.660 \n",
      "Prob(Omnibus):           0.001          Jarque-Bera (JB):         11.050\n",
      "Skew:                    -1.556         Prob(JB):                 0.004 \n",
      "Kurtosis:                5.624          Condition No.:            1     \n",
      "========================================================================\n",
      "\n"
     ]
    },
    {
     "name": "stderr",
     "output_type": "stream",
     "text": [
      "C:\\Users\\nabil\\anaconda3\\lib\\site-packages\\scipy\\stats\\stats.py:1541: UserWarning:\n",
      "\n",
      "kurtosistest only valid for n>=20 ... continuing anyway, n=16\n",
      "\n",
      "C:\\Users\\nabil\\anaconda3\\lib\\site-packages\\statsmodels\\regression\\linear_model.py:1650: RuntimeWarning:\n",
      "\n",
      "divide by zero encountered in double_scalars\n",
      "\n",
      "C:\\Users\\nabil\\anaconda3\\lib\\site-packages\\statsmodels\\base\\model.py:1452: RuntimeWarning:\n",
      "\n",
      "invalid value encountered in multiply\n",
      "\n",
      "C:\\Users\\nabil\\anaconda3\\lib\\site-packages\\statsmodels\\regression\\linear_model.py:1728: RuntimeWarning:\n",
      "\n",
      "divide by zero encountered in true_divide\n",
      "\n",
      "C:\\Users\\nabil\\anaconda3\\lib\\site-packages\\statsmodels\\regression\\linear_model.py:1728: RuntimeWarning:\n",
      "\n",
      "invalid value encountered in double_scalars\n",
      "\n"
     ]
    }
   ],
   "source": [
    "from statsmodels.formula.api import ols\n",
    "import statsmodels.api as sm\n",
    "model2=ols('OC~Temp*Pressure*Conc*Stirring',data=DF)\n",
    "results2=model2.fit()\n",
    "print(results2.summary2())"
   ]
  },
  {
   "cell_type": "code",
   "execution_count": 780,
   "id": "10228e1b-7f0b-4c9a-ac3c-b3ae7fd4b642",
   "metadata": {},
   "outputs": [
    {
     "name": "stdout",
     "output_type": "stream",
     "text": [
      "                              df        sum_sq    mean_sq    F  PR(>F)\n",
      "Temp                         1.0  1.870562e+03  1870.5625  0.0     NaN\n",
      "Pressure                     1.0  3.906250e+01    39.0625  0.0     NaN\n",
      "Temp:Pressure                1.0  6.250000e-02     0.0625  0.0     NaN\n",
      "Conc                         1.0  3.900625e+02   390.0625  0.0     NaN\n",
      "Temp:Conc                    1.0  1.314062e+03  1314.0625  0.0     NaN\n",
      "Pressure:Conc                1.0  2.256250e+01    22.5625  0.0     NaN\n",
      "Temp:Pressure:Conc           1.0  1.406250e+01    14.0625  0.0     NaN\n",
      "Stirring                     1.0  8.555625e+02   855.5625  0.0     NaN\n",
      "Temp:Stirring                1.0  1.105563e+03  1105.5625  0.0     NaN\n",
      "Pressure:Stirring            1.0  5.625000e-01     0.5625  0.0     NaN\n",
      "Temp:Pressure:Stirring       1.0  6.806250e+01    68.0625  0.0     NaN\n",
      "Conc:Stirring                1.0  5.062500e+00     5.0625  0.0     NaN\n",
      "Temp:Conc:Stirring           1.0  1.056250e+01    10.5625  0.0     NaN\n",
      "Pressure:Conc:Stirring       1.0  2.756250e+01    27.5625  0.0     NaN\n",
      "Temp:Pressure:Conc:Stirring  1.0  1.387562e+03  1387.5625  0.0     NaN\n",
      "Residual                     0.0  2.408235e-26        inf  NaN     NaN\n"
     ]
    },
    {
     "name": "stderr",
     "output_type": "stream",
     "text": [
      "C:\\Users\\nabil\\anaconda3\\lib\\site-packages\\statsmodels\\stats\\anova.py:138: RuntimeWarning:\n",
      "\n",
      "divide by zero encountered in double_scalars\n",
      "\n"
     ]
    }
   ],
   "source": [
    "from statsmodels.stats.anova import anova_lm\n",
    "anova_results2 = anova_lm(results2)\n",
    "print(anova_results2)"
   ]
  },
  {
   "cell_type": "code",
   "execution_count": 781,
   "id": "58ad3133-0a78-4c9a-8dd8-b50da9789244",
   "metadata": {},
   "outputs": [
    {
     "name": "stdout",
     "output_type": "stream",
     "text": [
      "                 Results: Ordinary least squares\n",
      "=================================================================\n",
      "Model:              OLS              Adj. R-squared:     0.668   \n",
      "Dependent Variable: OC               AIC:                130.8381\n",
      "Date:               2022-03-31 21:06 BIC:                135.4736\n",
      "No. Observations:   16               Log-Likelihood:     -59.419 \n",
      "Df Model:           5                F-statistic:        7.029   \n",
      "Df Residuals:       10               Prob (F-statistic): 0.00461 \n",
      "R-squared:          0.778            Scale:              157.51  \n",
      "-----------------------------------------------------------------\n",
      "                  Coef.  Std.Err.    t    P>|t|   [0.025   0.975]\n",
      "-----------------------------------------------------------------\n",
      "Intercept        60.0625   3.1376 19.1428 0.0000  53.0715 67.0535\n",
      "Temp             10.8125   3.1376  3.4461 0.0063   3.8215 17.8035\n",
      "Conc              4.9375   3.1376  1.5737 0.1466  -2.0535 11.9285\n",
      "Stirring          7.3125   3.1376  2.3306 0.0420   0.3215 14.3035\n",
      "Temp:Conc        -9.0625   3.1376 -2.8884 0.0162 -16.0535 -2.0715\n",
      "Temp:Stirring     8.3125   3.1376  2.6493 0.0243   1.3215 15.3035\n",
      "-----------------------------------------------------------------\n",
      "Omnibus:              8.218        Durbin-Watson:           2.417\n",
      "Prob(Omnibus):        0.016        Jarque-Bera (JB):        1.746\n",
      "Skew:                 0.065        Prob(JB):                0.418\n",
      "Kurtosis:             1.387        Condition No.:           1    \n",
      "=================================================================\n",
      "\n"
     ]
    },
    {
     "name": "stderr",
     "output_type": "stream",
     "text": [
      "C:\\Users\\nabil\\anaconda3\\lib\\site-packages\\scipy\\stats\\stats.py:1541: UserWarning:\n",
      "\n",
      "kurtosistest only valid for n>=20 ... continuing anyway, n=16\n",
      "\n"
     ]
    }
   ],
   "source": [
    "from statsmodels.formula.api import ols\n",
    "import statsmodels.api as sm\n",
    "model3=ols('OC~Temp+Conc+Stirring+Temp*Conc+Temp*Stirring',data=DF)\n",
    "results3=model3.fit()\n",
    "print(results3.summary2())"
   ]
  },
  {
   "cell_type": "code",
   "execution_count": 782,
   "id": "379c668b-6afb-4f6c-b80c-9788bb289682",
   "metadata": {},
   "outputs": [
    {
     "name": "stdout",
     "output_type": "stream",
     "text": [
      "                 df     sum_sq    mean_sq          F    PR(>F)\n",
      "Temp            1.0  1870.5625  1870.5625  11.875645  0.006267\n",
      "Conc            1.0   390.0625   390.0625   2.476391  0.146643\n",
      "Stirring        1.0   855.5625   855.5625   5.431712  0.042007\n",
      "Temp:Conc       1.0  1314.0625  1314.0625   8.342592  0.016153\n",
      "Temp:Stirring   1.0  1105.5625  1105.5625   7.018887  0.024342\n",
      "Residual       10.0  1575.1250   157.5125        NaN       NaN\n"
     ]
    }
   ],
   "source": [
    "from statsmodels.stats.anova import anova_lm\n",
    "anova_results3 = anova_lm(results3)\n",
    "print(anova_results3)"
   ]
  },
  {
   "cell_type": "code",
   "execution_count": 783,
   "id": "6bb1deed-febf-43de-871e-48feee7b751d",
   "metadata": {},
   "outputs": [
    {
     "name": "stdout",
     "output_type": "stream",
     "text": [
      "                 Results: Ordinary least squares\n",
      "=================================================================\n",
      "Model:              OLS              Adj. R-squared:     0.956   \n",
      "Dependent Variable: OC               AIC:                98.7904 \n",
      "Date:               2022-03-31 21:08 BIC:                104.1985\n",
      "No. Observations:   16               Log-Likelihood:     -42.395 \n",
      "Df Model:           6                F-statistic:        55.37   \n",
      "Df Residuals:       9                Prob (F-statistic): 1.35e-06\n",
      "R-squared:          0.974            Scale:              20.840  \n",
      "-----------------------------------------------------------------\n",
      "                  Coef.  Std.Err.    t    P>|t|   [0.025   0.975]\n",
      "-----------------------------------------------------------------\n",
      "Intercept        60.0625   1.1413 52.6274 0.0000  57.4807 62.6443\n",
      "Temp             10.8125   1.1413  9.4740 0.0000   8.2307 13.3943\n",
      "Conc              4.9375   1.1413  4.3263 0.0019   2.3557  7.5193\n",
      "Stirring          7.3125   1.1413  6.4073 0.0001   4.7307  9.8943\n",
      "Temp:Conc        -9.0625   1.1413 -7.9407 0.0000 -11.6443 -6.4807\n",
      "Temp:Stirring     8.3125   1.1413  7.2835 0.0000   5.7307 10.8943\n",
      "Block            -9.3125   1.1413 -8.1597 0.0000 -11.8943 -6.7307\n",
      "-----------------------------------------------------------------\n",
      "Omnibus:               1.472        Durbin-Watson:          1.505\n",
      "Prob(Omnibus):         0.479        Jarque-Bera (JB):       0.933\n",
      "Skew:                  -0.238       Prob(JB):               0.627\n",
      "Kurtosis:              1.916        Condition No.:          1    \n",
      "=================================================================\n",
      "\n"
     ]
    },
    {
     "name": "stderr",
     "output_type": "stream",
     "text": [
      "C:\\Users\\nabil\\anaconda3\\lib\\site-packages\\scipy\\stats\\stats.py:1541: UserWarning:\n",
      "\n",
      "kurtosistest only valid for n>=20 ... continuing anyway, n=16\n",
      "\n"
     ]
    }
   ],
   "source": [
    "from statsmodels.formula.api import ols\n",
    "import statsmodels.api as sm\n",
    "model4=ols('OC~Temp+Conc+Stirring+Temp*Conc+Temp*Stirring+Block',data=DF)\n",
    "results4=model4.fit()\n",
    "print(results4.summary2())"
   ]
  },
  {
   "cell_type": "code",
   "execution_count": 785,
   "id": "db011e43-eec6-464e-951a-53ef753b444c",
   "metadata": {},
   "outputs": [
    {
     "name": "stdout",
     "output_type": "stream",
     "text": [
      "                df     sum_sq      mean_sq          F    PR(>F)\n",
      "Temp           1.0  1870.5625  1870.562500  89.757081  0.000006\n",
      "Conc           1.0   390.0625   390.062500  18.716761  0.001915\n",
      "Stirring       1.0   855.5625   855.562500  41.053316  0.000124\n",
      "Temp:Conc      1.0  1314.0625  1314.062500  63.053982  0.000023\n",
      "Temp:Stirring  1.0  1105.5625  1105.562500  53.049317  0.000046\n",
      "Block          1.0  1387.5625  1387.562500  66.580806  0.000019\n",
      "Residual       9.0   187.5625    20.840278        NaN       NaN\n"
     ]
    }
   ],
   "source": [
    "from statsmodels.stats.anova import anova_lm\n",
    "anova_results4 = anova_lm(results4)\n",
    "print(anova_results4)"
   ]
  },
  {
   "cell_type": "code",
   "execution_count": 786,
   "id": "875f2e84-553a-46ee-a60b-2dcf4cf84754",
   "metadata": {},
   "outputs": [
    {
     "name": "stdout",
     "output_type": "stream",
     "text": [
      "                    Results: Ordinary least squares\n",
      "========================================================================\n",
      "Model:                OLS                Adj. R-squared:       nan      \n",
      "Dependent Variable:   OC                 AIC:                  -914.1553\n",
      "Date:                 2022-03-31 21:20   BIC:                  -901.7939\n",
      "No. Observations:     16                 Log-Likelihood:       473.08   \n",
      "Df Model:             15                 F-statistic:          nan      \n",
      "Df Residuals:         0                  Prob (F-statistic):   nan      \n",
      "R-squared:            1.000              Scale:                inf      \n",
      "------------------------------------------------------------------------\n",
      "                             Coef.  Std.Err.    t    P>|t| [0.025 0.975]\n",
      "------------------------------------------------------------------------\n",
      "Intercept                   60.0625      inf  0.0000   nan    nan    nan\n",
      "Temp                        10.8125      inf  0.0000   nan    nan    nan\n",
      "Conc                         4.9375      inf  0.0000   nan    nan    nan\n",
      "Stirring                     7.3125      inf  0.0000   nan    nan    nan\n",
      "Temp:Conc                   -9.0625      inf -0.0000   nan    nan    nan\n",
      "Temp:Stirring                8.3125      inf  0.0000   nan    nan    nan\n",
      "Stirring:Conc               -0.5625      inf -0.0000   nan    nan    nan\n",
      "Temp:Stirring:Conc          -0.8125      inf -0.0000   nan    nan    nan\n",
      "Pressure                     1.5625      inf  0.0000   nan    nan    nan\n",
      "Temp:Pressure                0.0625      inf  0.0000   nan    nan    nan\n",
      "Stirring:Pressure           -0.1875      inf -0.0000   nan    nan    nan\n",
      "Temp:Stirring:Pressure       2.0625      inf  0.0000   nan    nan    nan\n",
      "Conc:Pressure                1.1875      inf  0.0000   nan    nan    nan\n",
      "Temp:Conc:Pressure           0.9375      inf  0.0000   nan    nan    nan\n",
      "Stirring:Conc:Pressure      -1.3125      inf -0.0000   nan    nan    nan\n",
      "Temp:Stirring:Conc:Pressure -9.3125      inf -0.0000   nan    nan    nan\n",
      "------------------------------------------------------------------------\n",
      "Omnibus:                11.475          Durbin-Watson:             0.272\n",
      "Prob(Omnibus):          0.003           Jarque-Bera (JB):          8.111\n",
      "Skew:                   -1.345          Prob(JB):                  0.017\n",
      "Kurtosis:               5.220           Condition No.:             1    \n",
      "========================================================================\n",
      "\n"
     ]
    },
    {
     "name": "stderr",
     "output_type": "stream",
     "text": [
      "C:\\Users\\nabil\\anaconda3\\lib\\site-packages\\scipy\\stats\\stats.py:1541: UserWarning:\n",
      "\n",
      "kurtosistest only valid for n>=20 ... continuing anyway, n=16\n",
      "\n",
      "C:\\Users\\nabil\\anaconda3\\lib\\site-packages\\statsmodels\\regression\\linear_model.py:1650: RuntimeWarning:\n",
      "\n",
      "divide by zero encountered in double_scalars\n",
      "\n",
      "C:\\Users\\nabil\\anaconda3\\lib\\site-packages\\statsmodels\\regression\\linear_model.py:1728: RuntimeWarning:\n",
      "\n",
      "divide by zero encountered in true_divide\n",
      "\n",
      "C:\\Users\\nabil\\anaconda3\\lib\\site-packages\\statsmodels\\regression\\linear_model.py:1728: RuntimeWarning:\n",
      "\n",
      "invalid value encountered in double_scalars\n",
      "\n"
     ]
    }
   ],
   "source": [
    "from statsmodels.formula.api import ols\n",
    "import statsmodels.api as sm\n",
    "model4=ols('OC~Temp+Conc+Stirring+Temp*Conc+Temp*Stirring+Temp*Stirring*Conc*Pressure+Pressure',data=DF)\n",
    "results4=model4.fit()\n",
    "print(results4.summary2())"
   ]
  },
  {
   "cell_type": "code",
   "execution_count": null,
   "id": "0902aa8e-e011-47fa-975b-dad45c6221b3",
   "metadata": {},
   "outputs": [],
   "source": []
  }
 ],
 "metadata": {
  "kernelspec": {
   "display_name": "Python 3 (ipykernel)",
   "language": "python",
   "name": "python3"
  },
  "language_info": {
   "codemirror_mode": {
    "name": "ipython",
    "version": 3
   },
   "file_extension": ".py",
   "mimetype": "text/x-python",
   "name": "python",
   "nbconvert_exporter": "python",
   "pygments_lexer": "ipython3",
   "version": "3.8.8"
  }
 },
 "nbformat": 4,
 "nbformat_minor": 5
}
