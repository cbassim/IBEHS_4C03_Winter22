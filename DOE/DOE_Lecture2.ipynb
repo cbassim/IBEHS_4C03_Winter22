{
 "cells": [
  {
   "cell_type": "code",
   "execution_count": 1,
   "id": "5fd24d9b-fcc1-417c-8466-7e560401e936",
   "metadata": {},
   "outputs": [
    {
     "name": "stdin",
     "output_type": "stream",
     "text": [
      "Once deleted, variables cannot be recovered. Proceed (y/[n])?  y\n"
     ]
    }
   ],
   "source": [
    "%reset"
   ]
  },
  {
   "cell_type": "code",
   "execution_count": 2,
   "id": "8f1448b2-696c-4ef6-917c-04edfde852de",
   "metadata": {},
   "outputs": [],
   "source": [
    "import numpy as np\n",
    "import pandas as pd\n",
    "from matplotlib import pyplot as plt\n",
    "import seaborn as sns"
   ]
  },
  {
   "cell_type": "code",
   "execution_count": 78,
   "id": "d50e5855-c882-452f-9b6c-47a7b712b58a",
   "metadata": {},
   "outputs": [],
   "source": [
    "from statsmodels.formula.api import ols\n",
    "import statsmodels.api as sm"
   ]
  },
  {
   "cell_type": "markdown",
   "id": "ecea4575-d5e1-4a70-b74b-1a17d23413dd",
   "metadata": {},
   "source": [
    "# Four Factors at 2 Levels\n",
    "\n",
    "ce=collection efficiency model\n",
    "\n",
    "ed=energy delivery model"
   ]
  },
  {
   "cell_type": "code",
   "execution_count": 252,
   "id": "de792b56-7b93-41f4-b8d3-e3b094cd6bae",
   "metadata": {},
   "outputs": [],
   "source": [
    "A=pd.Series([-1,1,-1,1,-1,+1,-1,+1,-1,1,-1,1,-1,+1,-1,+1])\n",
    "B=pd.Series([-1,-1,1,1,-1,-1,1,1,-1,-1,1,1,-1,-1,1,1])\n",
    "C=pd.Series([-1,-1,-1,-1,1,1,1,1,-1,-1,-1,-1,1,1,1,1])\n",
    "D=pd.Series([-1,-1,-1,-1,-1,-1,-1,-1,1,1,1,1,1,1,1,1])\n",
    "y=pd.Series([43.5,51.3,35,38.4,44.9,52.4,39.7,41.3,41.3,50.2,37.5,39.2,43,51.9,39.9,41.6])"
   ]
  },
  {
   "cell_type": "code",
   "execution_count": 253,
   "id": "b4e24269-a7ac-4a1c-a080-f23c4410cc61",
   "metadata": {},
   "outputs": [
    {
     "name": "stdout",
     "output_type": "stream",
     "text": [
      "    0  1  2  3     4\n",
      "0  -1 -1 -1 -1  43.5\n",
      "1   1 -1 -1 -1  51.3\n",
      "2  -1  1 -1 -1  35.0\n",
      "3   1  1 -1 -1  38.4\n",
      "4  -1 -1  1 -1  44.9\n",
      "5   1 -1  1 -1  52.4\n",
      "6  -1  1  1 -1  39.7\n",
      "7   1  1  1 -1  41.3\n",
      "8  -1 -1 -1  1  41.3\n",
      "9   1 -1 -1  1  50.2\n",
      "10 -1  1 -1  1  37.5\n",
      "11  1  1 -1  1  39.2\n",
      "12 -1 -1  1  1  43.0\n",
      "13  1 -1  1  1  51.9\n",
      "14 -1  1  1  1  39.9\n",
      "15  1  1  1  1  41.6\n"
     ]
    }
   ],
   "source": [
    "DF_ce=pd.concat([A,B,C,D,y],axis='columns')\n",
    "print(DF_ce)"
   ]
  },
  {
   "cell_type": "code",
   "execution_count": 254,
   "id": "78778368-1f1d-412d-892d-82160d003fa5",
   "metadata": {},
   "outputs": [
    {
     "name": "stdout",
     "output_type": "stream",
     "text": [
      "                 Results: Ordinary least squares\n",
      "==================================================================\n",
      "Model:              OLS              Adj. R-squared:     nan      \n",
      "Dependent Variable: y                AIC:                -917.8714\n",
      "Date:               2022-03-28 12:19 BIC:                -905.5100\n",
      "No. Observations:   16               Log-Likelihood:     474.94   \n",
      "Df Model:           15               F-statistic:        nan      \n",
      "Df Residuals:       0                Prob (F-statistic): nan      \n",
      "R-squared:          1.000            Scale:              inf      \n",
      "--------------------------------------------------------------------\n",
      "               Coef.    Std.Err.      t      P>|t|   [0.025   0.975]\n",
      "--------------------------------------------------------------------\n",
      "Intercept     43.1938        inf    0.0000     nan      nan      nan\n",
      "A              2.5937        inf    0.0000     nan      nan      nan\n",
      "B             -4.1188        inf   -0.0000     nan      nan      nan\n",
      "A:B           -1.5437        inf   -0.0000     nan      nan      nan\n",
      "C              1.1437        inf    0.0000     nan      nan      nan\n",
      "A:C           -0.1312        inf   -0.0000     nan      nan      nan\n",
      "B:C            0.4063        inf    0.0000     nan      nan      nan\n",
      "A:B:C         -0.0937        inf   -0.0000     nan      nan      nan\n",
      "D             -0.1188        inf   -0.0000     nan      nan      nan\n",
      "A:D            0.0563        inf    0.0000     nan      nan      nan\n",
      "B:D            0.5938        inf    0.0000     nan      nan      nan\n",
      "A:B:D         -0.2563        inf   -0.0000     nan      nan      nan\n",
      "C:D           -0.1187        inf   -0.0000     nan      nan      nan\n",
      "A:C:D          0.1312        inf    0.0000     nan      nan      nan\n",
      "B:C:D         -0.2313        inf   -0.0000     nan      nan      nan\n",
      "A:B:C:D        0.0938        inf    0.0000     nan      nan      nan\n",
      "------------------------------------------------------------------\n",
      "Omnibus:              12.052        Durbin-Watson:           0.722\n",
      "Prob(Omnibus):        0.002         Jarque-Bera (JB):        9.175\n",
      "Skew:                 -1.295        Prob(JB):                0.010\n",
      "Kurtosis:             5.657         Condition No.:           1    \n",
      "==================================================================\n",
      "\n"
     ]
    },
    {
     "name": "stderr",
     "output_type": "stream",
     "text": [
      "C:\\Users\\nabil\\anaconda3\\lib\\site-packages\\scipy\\stats\\stats.py:1541: UserWarning: kurtosistest only valid for n>=20 ... continuing anyway, n=16\n",
      "  warnings.warn(\"kurtosistest only valid for n>=20 ... continuing \"\n",
      "C:\\Users\\nabil\\anaconda3\\lib\\site-packages\\statsmodels\\regression\\linear_model.py:1650: RuntimeWarning: divide by zero encountered in double_scalars\n",
      "  return np.dot(wresid, wresid) / self.df_resid\n",
      "C:\\Users\\nabil\\anaconda3\\lib\\site-packages\\statsmodels\\base\\model.py:1452: RuntimeWarning: invalid value encountered in multiply\n",
      "  cov_p = self.normalized_cov_params * scale\n",
      "C:\\Users\\nabil\\anaconda3\\lib\\site-packages\\statsmodels\\regression\\linear_model.py:1728: RuntimeWarning: divide by zero encountered in true_divide\n",
      "  return 1 - (np.divide(self.nobs - self.k_constant, self.df_resid)\n",
      "C:\\Users\\nabil\\anaconda3\\lib\\site-packages\\statsmodels\\regression\\linear_model.py:1728: RuntimeWarning: invalid value encountered in double_scalars\n",
      "  return 1 - (np.divide(self.nobs - self.k_constant, self.df_resid)\n"
     ]
    }
   ],
   "source": [
    "model_ce=ols('y~A*B*C*D',data=DF_ce)\n",
    "results_ce=model_ce.fit()\n",
    "print(results_ce.summary2())"
   ]
  },
  {
   "cell_type": "markdown",
   "id": "eabcc101-0cf7-4001-8eef-fd8a7cb2d2e6",
   "metadata": {},
   "source": [
    "# Half Fractions and gaining DF for standard error estimates"
   ]
  },
  {
   "cell_type": "code",
   "execution_count": 261,
   "id": "ecfdbdae-90df-4752-aab0-6dfe380c07fe",
   "metadata": {},
   "outputs": [],
   "source": [
    "A=pd.Series([-1,1,-1,1,-1,+1,-1,+1,-1,1,-1,1,-1,+1,-1,+1])\n",
    "B=pd.Series([-1,-1,1,1,-1,-1,1,1,-1,-1,1,1,-1,-1,1,1])\n",
    "C=pd.Series([-1,-1,-1,-1,1,1,1,1,-1,-1,-1,-1,1,1,1,1])\n",
    "D=pd.Series([-1,-1,-1,-1,-1,-1,-1,-1,1,1,1,1,1,1,1,1])\n",
    "y=pd.Series([82,83.7,61.7,100,82.1,84.1,67.7,100,82,86.3,66,100,82.2,89.8,68.6,100])"
   ]
  },
  {
   "cell_type": "code",
   "execution_count": 262,
   "id": "7f9ac25c-9d9e-4410-bd13-ce4a7339924f",
   "metadata": {},
   "outputs": [
    {
     "name": "stdout",
     "output_type": "stream",
     "text": [
      "    0  1  2  3      4\n",
      "0  -1 -1 -1 -1   82.0\n",
      "1   1 -1 -1 -1   83.7\n",
      "2  -1  1 -1 -1   61.7\n",
      "3   1  1 -1 -1  100.0\n",
      "4  -1 -1  1 -1   82.1\n",
      "5   1 -1  1 -1   84.1\n",
      "6  -1  1  1 -1   67.7\n",
      "7   1  1  1 -1  100.0\n",
      "8  -1 -1 -1  1   82.0\n",
      "9   1 -1 -1  1   86.3\n",
      "10 -1  1 -1  1   66.0\n",
      "11  1  1 -1  1  100.0\n",
      "12 -1 -1  1  1   82.2\n",
      "13  1 -1  1  1   89.8\n",
      "14 -1  1  1  1   68.6\n",
      "15  1  1  1  1  100.0\n"
     ]
    }
   ],
   "source": [
    "DF_ed=pd.concat([A,B,C,D,y],axis='columns')\n",
    "print(DF_ed)"
   ]
  },
  {
   "cell_type": "code",
   "execution_count": 263,
   "id": "7f75197d-c326-4557-86b9-d9688ce37f5f",
   "metadata": {},
   "outputs": [
    {
     "name": "stdout",
     "output_type": "stream",
     "text": [
      "                 Results: Ordinary least squares\n",
      "==================================================================\n",
      "Model:              OLS              Adj. R-squared:     nan      \n",
      "Dependent Variable: y                AIC:                -903.6561\n",
      "Date:               2022-03-28 12:23 BIC:                -891.2947\n",
      "No. Observations:   16               Log-Likelihood:     467.83   \n",
      "Df Model:           15               F-statistic:        nan      \n",
      "Df Residuals:       0                Prob (F-statistic): nan      \n",
      "R-squared:          1.000            Scale:              inf      \n",
      "--------------------------------------------------------------------\n",
      "               Coef.    Std.Err.      t      P>|t|   [0.025   0.975]\n",
      "--------------------------------------------------------------------\n",
      "Intercept     83.5125        inf    0.0000     nan      nan      nan\n",
      "A              9.4750        inf    0.0000     nan      nan      nan\n",
      "B             -0.5125        inf   -0.0000     nan      nan      nan\n",
      "A:B            7.5250        inf    0.0000     nan      nan      nan\n",
      "C              0.8000        inf    0.0000     nan      nan      nan\n",
      "A:C           -0.3125        inf   -0.0000     nan      nan      nan\n",
      "B:C            0.2750        inf    0.0000     nan      nan      nan\n",
      "A:B:C         -0.7625        inf   -0.0000     nan      nan      nan\n",
      "D              0.8500        inf    0.0000     nan      nan      nan\n",
      "A:D            0.1875        inf    0.0000     nan      nan      nan\n",
      "B:D           -0.2000        inf   -0.0000     nan      nan      nan\n",
      "A:B:D         -0.8375        inf   -0.0000     nan      nan      nan\n",
      "C:D           -0.0125        inf   -0.0000     nan      nan      nan\n",
      "A:C:D          0.4000        inf    0.0000     nan      nan      nan\n",
      "B:C:D         -0.4125        inf   -0.0000     nan      nan      nan\n",
      "A:B:C:D        0.0250        inf    0.0000     nan      nan      nan\n",
      "------------------------------------------------------------------\n",
      "Omnibus:               25.744       Durbin-Watson:          0.656 \n",
      "Prob(Omnibus):         0.000        Jarque-Bera (JB):       36.096\n",
      "Skew:                  -2.286       Prob(JB):               0.000 \n",
      "Kurtosis:              8.765        Condition No.:          1     \n",
      "==================================================================\n",
      "\n"
     ]
    },
    {
     "name": "stderr",
     "output_type": "stream",
     "text": [
      "C:\\Users\\nabil\\anaconda3\\lib\\site-packages\\scipy\\stats\\stats.py:1541: UserWarning: kurtosistest only valid for n>=20 ... continuing anyway, n=16\n",
      "  warnings.warn(\"kurtosistest only valid for n>=20 ... continuing \"\n",
      "C:\\Users\\nabil\\anaconda3\\lib\\site-packages\\statsmodels\\regression\\linear_model.py:1650: RuntimeWarning: divide by zero encountered in double_scalars\n",
      "  return np.dot(wresid, wresid) / self.df_resid\n",
      "C:\\Users\\nabil\\anaconda3\\lib\\site-packages\\statsmodels\\base\\model.py:1452: RuntimeWarning: invalid value encountered in multiply\n",
      "  cov_p = self.normalized_cov_params * scale\n",
      "C:\\Users\\nabil\\anaconda3\\lib\\site-packages\\statsmodels\\regression\\linear_model.py:1728: RuntimeWarning: divide by zero encountered in true_divide\n",
      "  return 1 - (np.divide(self.nobs - self.k_constant, self.df_resid)\n",
      "C:\\Users\\nabil\\anaconda3\\lib\\site-packages\\statsmodels\\regression\\linear_model.py:1728: RuntimeWarning: invalid value encountered in double_scalars\n",
      "  return 1 - (np.divide(self.nobs - self.k_constant, self.df_resid)\n"
     ]
    }
   ],
   "source": [
    "model_ed=ols('y~A*B*C*D',data=DF_ed)\n",
    "results_ed=model_ed.fit()\n",
    "print(results_ed.summary2())"
   ]
  },
  {
   "cell_type": "code",
   "execution_count": 264,
   "id": "eca09700-fae8-4789-95ff-58d04d4efa05",
   "metadata": {},
   "outputs": [
    {
     "name": "stdout",
     "output_type": "stream",
     "text": [
      "                 Results: Ordinary least squares\n",
      "=================================================================\n",
      "Model:              OLS              Adj. R-squared:     0.973   \n",
      "Dependent Variable: y                AIC:                72.1394 \n",
      "Date:               2022-03-28 12:38 BIC:                75.2298 \n",
      "No. Observations:   16               Log-Likelihood:     -32.070 \n",
      "Df Model:           3                F-statistic:        181.9   \n",
      "Df Residuals:       12               Prob (F-statistic): 2.88e-10\n",
      "R-squared:          0.978            Scale:              4.2996  \n",
      "------------------------------------------------------------------\n",
      "              Coef.   Std.Err.     t      P>|t|    [0.025   0.975]\n",
      "------------------------------------------------------------------\n",
      "Intercept    83.5125    0.5184  161.1010  0.0000  82.3830  84.6420\n",
      "A             9.4750    0.5184   18.2779  0.0000   8.3455  10.6045\n",
      "B            -0.5125    0.5184   -0.9886  0.3424  -1.6420   0.6170\n",
      "A:B           7.5250    0.5184   14.5162  0.0000   6.3955   8.6545\n",
      "-----------------------------------------------------------------\n",
      "Omnibus:               2.444        Durbin-Watson:          1.336\n",
      "Prob(Omnibus):         0.295        Jarque-Bera (JB):       0.659\n",
      "Skew:                  -0.209       Prob(JB):               0.719\n",
      "Kurtosis:              3.902        Condition No.:          1    \n",
      "=================================================================\n",
      "\n"
     ]
    },
    {
     "name": "stderr",
     "output_type": "stream",
     "text": [
      "C:\\Users\\nabil\\anaconda3\\lib\\site-packages\\scipy\\stats\\stats.py:1541: UserWarning: kurtosistest only valid for n>=20 ... continuing anyway, n=16\n",
      "  warnings.warn(\"kurtosistest only valid for n>=20 ... continuing \"\n"
     ]
    }
   ],
   "source": [
    "model_ed_AB=ols('y~A*B',data=DF_ed)\n",
    "results_ed_AB=model_ed_AB.fit()\n",
    "print(results_ed_AB.summary2())"
   ]
  },
  {
   "cell_type": "code",
   "execution_count": null,
   "id": "55f7a037-6d2e-4cd3-862c-b306a7c69c31",
   "metadata": {},
   "outputs": [],
   "source": []
  }
 ],
 "metadata": {
  "kernelspec": {
   "display_name": "Python 3 (ipykernel)",
   "language": "python",
   "name": "python3"
  },
  "language_info": {
   "codemirror_mode": {
    "name": "ipython",
    "version": 3
   },
   "file_extension": ".py",
   "mimetype": "text/x-python",
   "name": "python",
   "nbconvert_exporter": "python",
   "pygments_lexer": "ipython3",
   "version": "3.8.8"
  }
 },
 "nbformat": 4,
 "nbformat_minor": 5
}
